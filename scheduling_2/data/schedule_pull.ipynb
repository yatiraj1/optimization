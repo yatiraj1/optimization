{
 "cells": [
  {
   "cell_type": "code",
   "execution_count": 2,
   "metadata": {},
   "outputs": [],
   "source": [
    "import pandas as pd\n",
    "import numpy as np"
   ]
  },
  {
   "cell_type": "code",
   "execution_count": 3,
   "metadata": {},
   "outputs": [],
   "source": [
    "schedule_links = {\n",
    "    2020 : \"https://www.basketball-reference.com/leagues/NBA_2020_games.html\",\n",
    "    2019 : \"https://www.basketball-reference.com/leagues/NBA_2019_games.html\",\n",
    "    2018 : \"https://www.basketball-reference.com/leagues/NBA_2018_games.html\",\n",
    "    2017 : \"https://www.basketball-reference.com/leagues/NBA_2017_games.html\",\n",
    "}"
   ]
  },
  {
   "cell_type": "code",
   "execution_count": 8,
   "metadata": {},
   "outputs": [],
   "source": [
    "for key, value in schedule_links.items():\n",
    "    pd.read_html(value, attrs = {'id': 'schedule'})[0].to_csv(f\"schedule_{key}_.csv\")"
   ]
  },
  {
   "cell_type": "raw",
   "metadata": {},
   "source": [
    "len(pd.read_html(\"https://www.basketball-reference.com/leagues/NBA_2019_games.html\",attrs = {'id': 'schedule'}))"
   ]
  },
  {
   "cell_type": "code",
   "execution_count": null,
   "metadata": {},
   "outputs": [],
   "source": []
  }
 ],
 "metadata": {
  "kernelspec": {
   "display_name": "Python 3",
   "language": "python",
   "name": "python3"
  },
  "language_info": {
   "codemirror_mode": {
    "name": "ipython",
    "version": 3
   },
   "file_extension": ".py",
   "mimetype": "text/x-python",
   "name": "python",
   "nbconvert_exporter": "python",
   "pygments_lexer": "ipython3",
   "version": "3.7.4"
  }
 },
 "nbformat": 4,
 "nbformat_minor": 4
}
