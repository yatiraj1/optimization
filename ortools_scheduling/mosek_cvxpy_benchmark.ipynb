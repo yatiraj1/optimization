{
 "cells": [
  {
   "cell_type": "code",
   "execution_count": 14,
   "metadata": {},
   "outputs": [],
   "source": [
    "from cvxpy import *\n",
    "import numpy as np\n",
    "import pandas as pd\n",
    "from itertools import combinations\n",
    "import time\n",
    "import seaborn as sns\n",
    "from matplotlib import pyplot as plt"
   ]
  },
  {
   "cell_type": "code",
   "execution_count": 6,
   "metadata": {},
   "outputs": [],
   "source": [
    "#number_games = 45 \n",
    "number_days = 35\n",
    "number_teams = 10\n",
    "matchups = list(combinations(range(number_teams),2))\n",
    "number_games = len(matchups)\n",
    "\n",
    "game_values = np.random.randint(10, size=(number_games,number_days))\n",
    "game_day = np.array([np.array(range(number_days)) for x in range(number_games)]) + 1"
   ]
  },
  {
   "cell_type": "code",
   "execution_count": 7,
   "metadata": {},
   "outputs": [],
   "source": [
    "day_constraints = np.array([1 if x%7 <= 4 else 2 for x in range(number_days)])"
   ]
  },
  {
   "cell_type": "raw",
   "metadata": {},
   "source": [
    "#modifying  game_values so that there is same value for weekdays/weekends, which is different from weekends/weekdays\n",
    "for i in range(len(game_values)):\n",
    "    wnd = np.max(game_values[i]) + np.random.randint(-1, 2)\n",
    "    wkd = np.mean(game_values[i]) + np.random.randint(-2,3)\n",
    "    for j in range(len(game_values[0])):\n",
    "        if j%7 <= 4:\n",
    "            game_values[i,j] = wkd\n",
    "        else:\n",
    "            game_values[i,j] = wnd\n",
    "            "
   ]
  },
  {
   "cell_type": "code",
   "execution_count": 8,
   "metadata": {},
   "outputs": [],
   "source": [
    "game_costs = pd.DataFrame(game_values, columns = range(game_values.shape[1]), index= range(game_values.shape[0]))\n",
    "game_costs['matchups'] = matchups"
   ]
  },
  {
   "cell_type": "code",
   "execution_count": 9,
   "metadata": {},
   "outputs": [
    {
     "data": {
      "text/plain": [
       "['CVXOPT', 'ECOS', 'GLPK', 'GLPK_MI', 'MOSEK', 'OSQP', 'SCS']"
      ]
     },
     "execution_count": 9,
     "metadata": {},
     "output_type": "execute_result"
    }
   ],
   "source": [
    "installed_solvers()"
   ]
  },
  {
   "cell_type": "code",
   "execution_count": 10,
   "metadata": {},
   "outputs": [],
   "source": [
    "#Declare variables\n",
    "C = Variable(shape = (number_games, number_days), boolean = True)\n",
    "#V = Constant(game_values)"
   ]
  },
  {
   "cell_type": "code",
   "execution_count": 11,
   "metadata": {},
   "outputs": [
    {
     "name": "stdout",
     "output_type": "stream",
     "text": [
      "\n",
      "\n",
      "Problem\n",
      "  Name                   :                 \n",
      "  Objective sense        : min             \n",
      "  Type                   : LO (linear optimization problem)\n",
      "  Constraints            : 80              \n",
      "  Cones                  : 0               \n",
      "  Scalar variables       : 1575            \n",
      "  Matrix variables       : 0               \n",
      "  Integer variables      : 1575            \n",
      "\n",
      "Optimizer started.\n",
      "Mixed integer optimizer started.\n",
      "Threads used: 4\n",
      "Presolve started.\n",
      "Presolve terminated. Time = 0.23\n",
      "Presolved problem: 1575 variables, 80 constraints, 3150 non-zeros\n",
      "Presolved problem: 0 general integer, 1575 binary, 0 continuous\n",
      "Clique table size: 70\n",
      "BRANCHES RELAXS   ACT_NDS  DEPTH    BEST_INT_OBJ         BEST_RELAX_OBJ       REL_GAP(%)  TIME  \n",
      "0        0        1        0        -2.2300000000e+02    NA                   NA          0.3   \n",
      "0        1        1        0        -4.0300000000e+02    -4.0300000000e+02    0.00e+00    0.3   \n",
      "An optimal solution satisfying the relative gap tolerance of 1.00e-02(%) has been located.\n",
      "The relative gap is 0.00e+00(%).\n",
      "An optimal solution satisfying the absolute gap tolerance of 0.00e+00 has been located.\n",
      "The absolute gap is 0.00e+00.\n",
      "\n",
      "Objective of best integer solution : -4.030000000000e+02     \n",
      "Best objective bound               : -4.030000000000e+02     \n",
      "Construct solution objective       : Not employed\n",
      "User objective cut value           : Not employed\n",
      "Number of cuts generated           : 0\n",
      "Number of branches                 : 0\n",
      "Number of relaxations solved       : 1\n",
      "Number of interior point iterations: 6\n",
      "Number of simplex iterations       : 0\n",
      "Time spend presolving the root     : 0.23\n",
      "Time spend optimizing the root     : 0.02\n",
      "Mixed integer optimizer terminated. Time: 0.27\n",
      "\n",
      "Optimizer terminated. Time: 0.28    \n",
      "\n",
      "\n",
      "Integer solution solution summary\n",
      "  Problem status  : PRIMAL_FEASIBLE\n",
      "  Solution status : INTEGER_OPTIMAL\n",
      "  Primal.  obj: -4.0300000000e+02   nrm: 2e+00    Viol.  con: 1e-16    var: 1e-16    itg: 2e-16  \n"
     ]
    }
   ],
   "source": [
    "#Define the Optimization Problem\n",
    "t1 = time.time()\n",
    "\n",
    "prob = Problem(Maximize(sum(multiply(C, game_values))),\n",
    "              [\n",
    "                  sum(C, axis=0) == day_constraints,\n",
    "                  sum(C, axis=1) == 1\n",
    "              ]\n",
    "              \n",
    "              )\n",
    "\n",
    "prob.solve(\n",
    "            verbose = True,\n",
    "            solver = MOSEK,\n",
    "            #mi_max_iters = 10000\n",
    ")\n",
    "\n",
    "t2 = time.time()"
   ]
  },
  {
   "cell_type": "code",
   "execution_count": 12,
   "metadata": {},
   "outputs": [
    {
     "data": {
      "text/plain": [
       "403.0"
      ]
     },
     "execution_count": 12,
     "metadata": {},
     "output_type": "execute_result"
    }
   ],
   "source": [
    "prob.value"
   ]
  },
  {
   "cell_type": "code",
   "execution_count": 44,
   "metadata": {},
   "outputs": [
    {
     "data": {
      "text/plain": [
       "402.0"
      ]
     },
     "execution_count": 44,
     "metadata": {},
     "output_type": "execute_result"
    }
   ],
   "source": [
    "np.multiply(C.value,game_values).sum()"
   ]
  },
  {
   "cell_type": "code",
   "execution_count": 17,
   "metadata": {},
   "outputs": [],
   "source": [
    "soln = pd.DataFrame(np.round(C.value), dtype=bool)"
   ]
  },
  {
   "cell_type": "code",
   "execution_count": 19,
   "metadata": {},
   "outputs": [
    {
     "data": {
      "text/plain": [
       "<AxesSubplot:>"
      ]
     },
     "execution_count": 19,
     "metadata": {},
     "output_type": "execute_result"
    },
    {
     "data": {
      "image/png": "[encoded data removed]",
      "text/plain": [
       "<Figure size 1440x1080 with 1 Axes>"
      ]
     },
     "metadata": {
      "needs_background": "light"
     },
     "output_type": "display_data"
    }
   ],
   "source": [
    "fig, ax = plt.subplots(figsize=(20,15))\n",
    "sns.heatmap(soln, linecolor = 'white', linewidths = 0.1, annot = True, ax = ax, cbar =False)"
   ]
  },
  {
   "cell_type": "code",
   "execution_count": 23,
   "metadata": {},
   "outputs": [
    {
     "data": {
      "text/plain": [
       "0     1\n",
       "1     1\n",
       "2     1\n",
       "3     1\n",
       "4     1\n",
       "5     2\n",
       "6     2\n",
       "7     1\n",
       "8     1\n",
       "9     1\n",
       "10    1\n",
       "11    1\n",
       "12    2\n",
       "13    2\n",
       "14    1\n",
       "15    1\n",
       "16    1\n",
       "17    1\n",
       "18    1\n",
       "19    2\n",
       "20    2\n",
       "21    1\n",
       "22    1\n",
       "23    1\n",
       "24    1\n",
       "25    1\n",
       "26    2\n",
       "27    2\n",
       "28    1\n",
       "29    1\n",
       "30    1\n",
       "31    1\n",
       "32    1\n",
       "33    2\n",
       "34    2\n",
       "dtype: int64"
      ]
     },
     "execution_count": 23,
     "metadata": {},
     "output_type": "execute_result"
    }
   ],
   "source": [
    "soln.sum(axis=0)"
   ]
  },
  {
   "cell_type": "code",
   "execution_count": null,
   "metadata": {},
   "outputs": [],
   "source": []
  }
 ],
 "metadata": {
  "kernelspec": {
   "display_name": "Python 3",
   "language": "python",
   "name": "python3"
  },
  "language_info": {
   "codemirror_mode": {
    "name": "ipython",
    "version": 3
   },
   "file_extension": ".py",
   "mimetype": "text/x-python",
   "name": "python",
   "nbconvert_exporter": "python",
   "pygments_lexer": "ipython3",
   "version": "3.7.4"
  }
 },
 "nbformat": 4,
 "nbformat_minor": 4
}
