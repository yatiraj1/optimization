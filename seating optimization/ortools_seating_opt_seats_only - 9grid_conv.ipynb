{
 "cells": [
  {
   "cell_type": "code",
   "execution_count": 1,
   "metadata": {},
   "outputs": [],
   "source": [
    "from ortools.linear_solver import pywraplp"
   ]
  },
  {
   "cell_type": "code",
   "execution_count": 2,
   "metadata": {},
   "outputs": [],
   "source": [
    "import pandas as pd\n",
    "import numpy as np\n",
    "import seaborn as sns\n",
    "from matplotlib import pyplot as plt\n",
    "from itertools import combinations\n",
    "import time"
   ]
  },
  {
   "cell_type": "code",
   "execution_count": 56,
   "metadata": {},
   "outputs": [],
   "source": [
    "number_tickets = 10\n",
    "seating_rows = 28\n",
    "seating_columns = 28\n",
    "number_seats = seating_rows * seating_columns\n",
    "seat_depth = 0.5\n",
    "seat_depth_gap = 0.1\n",
    "seat_width = 0.5\n",
    "seat_width_gap = 0.1"
   ]
  },
  {
   "cell_type": "code",
   "execution_count": 57,
   "metadata": {},
   "outputs": [],
   "source": [
    "x_seats = np.array( [ (i % seating_columns) * (seat_width + seat_width_gap) + (seat_width / 2) for i in range(number_seats) ] )"
   ]
  },
  {
   "cell_type": "code",
   "execution_count": 58,
   "metadata": {},
   "outputs": [],
   "source": [
    "y_seats = np.array( [ (i // seating_columns) * (seat_depth + seat_depth_gap) + (seat_depth / 2) for i in range(number_seats) ] )"
   ]
  },
  {
   "cell_type": "code",
   "execution_count": 59,
   "metadata": {},
   "outputs": [],
   "source": [
    "#ticket_size = np.random.randint(low =1, high = 10, size = number_tickets)\n",
    "ticket_size = np.ones(number_tickets)"
   ]
  },
  {
   "cell_type": "code",
   "execution_count": 60,
   "metadata": {},
   "outputs": [
    {
     "data": {
      "text/plain": [
       "array([1., 1., 1., 1., 1., 1., 1., 1., 1., 1.])"
      ]
     },
     "execution_count": 60,
     "metadata": {},
     "output_type": "execute_result"
    }
   ],
   "source": [
    "ticket_size"
   ]
  },
  {
   "cell_type": "raw",
   "metadata": {},
   "source": [
    "[(x_seats[i],y_seats[i]) for i in range(number_seats)]"
   ]
  },
  {
   "cell_type": "code",
   "execution_count": 89,
   "metadata": {},
   "outputs": [],
   "source": [
    "def main():\n",
    "    # Data\n",
    "    \n",
    "        \n",
    "    \n",
    "    # Solver\n",
    "    # Create the mip solver with the CBC backend.\n",
    "    solver = pywraplp.Solver.CreateSolver('assignment_mip', 'CBC')\n",
    "\n",
    "\n",
    "    # Variables\n",
    "    # x[i, j] is an array of 0-1 variables, which will be 1\n",
    "    # if worker i is assigned to task j.\n",
    "    x = {}\n",
    "    for i in range(number_seats):\n",
    "        x[i] = solver.IntVar(0, 1, '')\n",
    "\n",
    "    # Constraints\n",
    "    # extreme rows and columns are empty\n",
    "    \"\"\"for i in range(number_seats):\n",
    "        if i % seating_rows == 0 or i % seating_rows == seating_rows - 1:\n",
    "            solver.Add(x[i] == 0)\n",
    "    \n",
    "    for j in range(number_seats):\n",
    "        if j < seating_columns or j > number_seats - seating_columns:\n",
    "            solver.Add(x[j] == 0)\"\"\"\n",
    "    \n",
    "    #distance constraint\n",
    "    for a in range(number_seats):\n",
    "        arr = []\n",
    "        for b in range(number_seats):\n",
    "            if (x_seats[a] - x_seats[b])**2 + (y_seats[a] - y_seats[b])**2 < 0.25*(2 + 2*seat_width + 2*seat_width_gap) ** 2:\n",
    "                arr.append(x[b])\n",
    "                \n",
    "        solver.Add(solver.Sum(arr) <= 1 )\n",
    "    \n",
    "    \n",
    "    # Objective\n",
    "    objective_terms = []\n",
    "    for i in range(number_seats):\n",
    "        objective_terms.append(x[i])\n",
    "    solver.Maximize(solver.Sum(objective_terms))\n",
    "\n",
    "    # Solve\n",
    "    status = solver.Solve()\n",
    "    \n",
    "    #sol_matrix\n",
    "    soln_matrix = np.zeros((seating_rows, seating_columns))\n",
    "    # Print solution.\n",
    "    if status == pywraplp.Solver.OPTIMAL or status == pywraplp.Solver.FEASIBLE:\n",
    "        print(\"status is \" , status)\n",
    "        print('Total cost = ', solver.Objective().Value(), '\\n')\n",
    "        for i in range(seating_rows):\n",
    "            for j in range(seating_columns):\n",
    "                # Test if x[i,j] is 1 (with tolerance for floating point arithmetic).\n",
    "                if x[i + j * seating_columns].solution_value() > 0.5:\n",
    "                    #print('Worker %d assigned to task %d.  Cost = %d' %\n",
    "                          #(i, j, costs[i][j]))\n",
    "                        print(i,j)\n",
    "                        soln_matrix[i,j] = 1# creating and returning the solution in grid / matrix form\n",
    "        return(soln_matrix)\n",
    "    else:\n",
    "        return status\n"
   ]
  },
  {
   "cell_type": "raw",
   "metadata": {},
   "source": [
    "pywraplp.Solver.OPTIMAL"
   ]
  },
  {
   "cell_type": "code",
   "execution_count": 90,
   "metadata": {},
   "outputs": [
    {
     "name": "stdout",
     "output_type": "stream",
     "text": [
      "status is  0\n",
      "Total cost =  39.0 \n",
      "\n",
      "0 0\n",
      "0 8\n",
      "0 13\n",
      "0 21\n",
      "0 27\n",
      "3 4\n",
      "3 17\n",
      "4 24\n",
      "6 0\n",
      "6 8\n",
      "6 13\n",
      "7 20\n",
      "8 27\n",
      "9 4\n",
      "10 16\n",
      "11 9\n",
      "11 23\n",
      "12 0\n",
      "14 5\n",
      "14 13\n",
      "14 19\n",
      "14 27\n",
      "17 0\n",
      "18 10\n",
      "18 16\n",
      "18 22\n",
      "19 5\n",
      "19 27\n",
      "22 0\n",
      "22 13\n",
      "22 19\n",
      "23 8\n",
      "23 24\n",
      "27 0\n",
      "27 5\n",
      "27 11\n",
      "27 16\n",
      "27 21\n",
      "27 27\n"
     ]
    },
    {
     "data": {
      "text/plain": [
       "342.5856695175171"
      ]
     },
     "execution_count": 90,
     "metadata": {},
     "output_type": "execute_result"
    }
   ],
   "source": [
    "t1 = time.time()\n",
    "soln = main()\n",
    "t2 = time.time()\n",
    "t2-t1"
   ]
  },
  {
   "cell_type": "code",
   "execution_count": 91,
   "metadata": {},
   "outputs": [
    {
     "data": {
      "text/plain": [
       "array([[0., 0., 0., 0., 0., 0., 0.],\n",
       "       [0., 1., 1., 1., 1., 1., 0.],\n",
       "       [0., 1., 1., 1., 1., 1., 0.],\n",
       "       [0., 1., 1., 1., 1., 1., 0.],\n",
       "       [0., 0., 0., 0., 0., 0., 0.]])"
      ]
     },
     "execution_count": 91,
     "metadata": {},
     "output_type": "execute_result"
    }
   ],
   "source": [
    "import numpy as np\n",
    "a = np.array([[ 1.,  1.,  1.,  1.,  1.],\n",
    "               [ 1.,  1.,  1.,  1.,  1.],\n",
    "               [ 1.,  1.,  1.,  1.,  1.]])\n",
    "np.pad(a, 1 , mode='constant')\n"
   ]
  },
  {
   "cell_type": "code",
   "execution_count": 92,
   "metadata": {},
   "outputs": [],
   "source": [
    "soln = np.pad(soln, 1, mode='constant')"
   ]
  },
  {
   "cell_type": "raw",
   "metadata": {},
   "source": [
    "soln = soln.sum(axis=1).reshape((seating_rows,seating_columns))"
   ]
  },
  {
   "cell_type": "code",
   "execution_count": 93,
   "metadata": {},
   "outputs": [
    {
     "data": {
      "text/plain": [
       "<matplotlib.axes._subplots.AxesSubplot at 0x1d300d92ac8>"
      ]
     },
     "execution_count": 93,
     "metadata": {},
     "output_type": "execute_result"
    },
    {
     "data": {
      "image/png": "[encoded data removed]",
      "text/plain": [
       "<Figure size 1440x1080 with 1 Axes>"
      ]
     },
     "metadata": {
      "needs_background": "light"
     },
     "output_type": "display_data"
    }
   ],
   "source": [
    "fig, ax = plt.subplots(figsize=(20,15))\n",
    "sns.heatmap(soln, linecolor = 'white', linewidths = 0.1, annot = True, ax = ax, cbar =False)"
   ]
  },
  {
   "cell_type": "code",
   "execution_count": 13,
   "metadata": {},
   "outputs": [],
   "source": [
    "pd.DataFrame(soln).to_csv(\"seat_optimization_9grid30by30.csv\")"
   ]
  },
  {
   "cell_type": "code",
   "execution_count": 30,
   "metadata": {},
   "outputs": [],
   "source": [
    "def constraints():\n",
    "    # Data\n",
    "    \n",
    "        \n",
    "    \n",
    "    # Solver\n",
    "    # Create the mip solver with the CBC backend.\n",
    "    solver = pywraplp.Solver.CreateSolver('assignment_mip', 'CBC')\n",
    "\n",
    "\n",
    "    # Variables\n",
    "    # x[i, j] is an array of 0-1 variables, which will be 1\n",
    "    # if worker i is assigned to task j.\n",
    "    x = {}\n",
    "    for i in range(number_seats):\n",
    "        x[i] = solver.IntVar(0, 1, '')\n",
    "\n",
    "    # Constraints\n",
    "    # extreme rows and columns are empty\n",
    "    \"\"\"for i in range(number_seats):\n",
    "        if i % seating_rows == 0 or i % seating_rows == seating_rows - 1:\n",
    "            solver.Add(x[i] == 0)\n",
    "    \n",
    "    for j in range(number_seats):\n",
    "        if j < seating_columns or j > number_seats - seating_columns:\n",
    "            solver.Add(x[j] == 0)\"\"\"\n",
    "    \n",
    "    #distance constraint\n",
    "    for a, b in combinations(range(number_seats), 2):\n",
    "        if (x_seats[a] - x_seats[b])**2 + (y_seats[a] - y_seats[b])**2 < (2 + 2*seat_width + 2*seat_width_gap) ** 2:\n",
    "            solver.Add(solver.Sum([ x[a] , x[b] ]) <= 1 )\n",
    "    \n",
    "    \n",
    "    # Objective\n",
    "    objective_terms = []\n",
    "    for i in range(number_seats):\n",
    "        objective_terms.append(x[i])\n",
    "    solver.Maximize(solver.Sum(objective_terms))\n",
    "\n",
    "    return solver.ExportModelAsLpFormat(obfuscated=False)\n",
    "    "
   ]
  },
  {
   "cell_type": "code",
   "execution_count": 31,
   "metadata": {},
   "outputs": [
    {
     "name": "stdout",
     "output_type": "stream",
     "text": [
      " Generated by MPModelProtoExporter\n",
      "   Name             : assignment_mip\n",
      "   Format           : Free\n",
      "   Constraints      : 22968\n",
      "   Variables        : 784\n",
      "     Binary         : 784\n",
      "     Integer        : 0\n",
      "     Continuous     : 0\n",
      "Maximize\n",
      " Obj: +1 auto_v_000000000 +1 auto_v_000000001 +1 auto_v_000000002 +1 auto_v_000000003 +1 auto_v_000000004 +1 auto_v_000000005 +1 auto_v_000000006 +1 auto_v_000000007 +1 auto_v_000000008 +1 auto_v_000000009 +1 auto_v_000000010 +1 auto_v_000000011 +1 auto_v_00000001\n"
     ]
    }
   ],
   "source": [
    "print(constraints().replace('\\\\', '').replace(',_', ',')[:500], sep = '\\n')"
   ]
  },
  {
   "cell_type": "code",
   "execution_count": null,
   "metadata": {},
   "outputs": [],
   "source": []
  },
  {
   "cell_type": "code",
   "execution_count": 94,
   "metadata": {},
   "outputs": [],
   "source": [
    "def get_convolutions():\n",
    "    # Data\n",
    "    \n",
    "        \n",
    "    \n",
    "    # Solver\n",
    "    # Create the mip solver with the CBC backend.\n",
    "    solver = pywraplp.Solver.CreateSolver('assignment_mip', 'CBC')\n",
    "\n",
    "\n",
    "    # Variables\n",
    "    # x[i, j] is an array of 0-1 variables, which will be 1\n",
    "    # if worker i is assigned to task j.\n",
    "    x = {}\n",
    "    for i in range(number_seats):\n",
    "        x[i] = solver.IntVar(0, 1, '')\n",
    "\n",
    "    soln_matrix = np.zeros((seating_rows, seating_columns))\n",
    "    #distance constraint\n",
    "    for i in range(seating_rows):\n",
    "        for j in range(seating_columns):\n",
    "            # Test if x[i,j] is 1 (with tolerance for floating point arithmetic).\n",
    "            #if x[i + j * seating_columns].solution_value() > 0.5:\n",
    "            if ((x_seats[i + j * seating_columns] - x_seats[7 + 7 * seating_columns])**2 \n",
    "            + (y_seats[i + j * seating_columns] - y_seats[7 + 7 * seating_columns])**2 \n",
    "            < 0.25*(2 + 2*seat_width + 2*seat_width_gap) ** 2):\n",
    "                #print('Worker %d assigned to task %d.  Cost = %d' %\n",
    "                      #(i, j, costs[i][j]))\n",
    "                    print(i,j)\n",
    "                    soln_matrix[i,j] = 1\n",
    "    return soln_matrix \n",
    "    "
   ]
  },
  {
   "cell_type": "code",
   "execution_count": 95,
   "metadata": {},
   "outputs": [
    {
     "name": "stdout",
     "output_type": "stream",
     "text": [
      "5 6\n",
      "5 7\n",
      "5 8\n",
      "6 5\n",
      "6 6\n",
      "6 7\n",
      "6 8\n",
      "6 9\n",
      "7 5\n",
      "7 6\n",
      "7 7\n",
      "7 8\n",
      "7 9\n",
      "8 5\n",
      "8 6\n",
      "8 7\n",
      "8 8\n",
      "8 9\n",
      "9 6\n",
      "9 7\n",
      "9 8\n"
     ]
    }
   ],
   "source": [
    "soln = get_convolutions()"
   ]
  },
  {
   "cell_type": "code",
   "execution_count": 96,
   "metadata": {},
   "outputs": [
    {
     "data": {
      "text/plain": [
       "<matplotlib.axes._subplots.AxesSubplot at 0x1d300d92788>"
      ]
     },
     "execution_count": 96,
     "metadata": {},
     "output_type": "execute_result"
    },
    {
     "data": {
      "image/png": "[encoded data removed]",
      "text/plain": [
       "<Figure size 1440x1080 with 1 Axes>"
      ]
     },
     "metadata": {
      "needs_background": "light"
     },
     "output_type": "display_data"
    }
   ],
   "source": [
    "fig, ax = plt.subplots(figsize=(20,15))\n",
    "sns.heatmap(soln, linecolor = 'white', linewidths = 0.1, annot = True, ax = ax, cbar =False)"
   ]
  },
  {
   "cell_type": "code",
   "execution_count": null,
   "metadata": {},
   "outputs": [],
   "source": []
  },
  {
   "cell_type": "code",
   "execution_count": null,
   "metadata": {},
   "outputs": [],
   "source": []
  }
 ],
 "metadata": {
  "kernelspec": {
   "display_name": "Python 3",
   "language": "python",
   "name": "python3"
  },
  "language_info": {
   "codemirror_mode": {
    "name": "ipython",
    "version": 3
   },
   "file_extension": ".py",
   "mimetype": "text/x-python",
   "name": "python",
   "nbconvert_exporter": "python",
   "pygments_lexer": "ipython3",
   "version": "3.7.4"
  }
 },
 "nbformat": 4,
 "nbformat_minor": 4
}
