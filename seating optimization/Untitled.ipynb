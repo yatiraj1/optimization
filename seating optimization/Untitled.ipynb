{
 "cells": [
  {
   "cell_type": "code",
   "execution_count": 1,
   "metadata": {},
   "outputs": [],
   "source": [
    "from ortools.linear_solver import pywraplp"
   ]
  },
  {
   "cell_type": "code",
   "execution_count": 2,
   "metadata": {},
   "outputs": [],
   "source": [
    "import pandas as pd\n",
    "import numpy as np\n",
    "import seaborn as sns\n",
    "from matplotlib import pyplot as plt\n",
    "from itertools import combinations"
   ]
  },
  {
   "cell_type": "code",
   "execution_count": 3,
   "metadata": {},
   "outputs": [],
   "source": [
    "number_tickets = 50\n",
    "seating_rows = 20\n",
    "seating_columns = 20\n",
    "number_seats = seating_rows * seating_columns\n",
    "seat_depth = 0.5\n",
    "seat_depth_gap = 0.2\n",
    "seat_width = 0.5\n",
    "seat_width_gap = 0.2"
   ]
  },
  {
   "cell_type": "code",
   "execution_count": 4,
   "metadata": {},
   "outputs": [],
   "source": [
    "x_seats = np.array( [ (i % seating_columns) * (seat_width + seat_width_gap) + (seat_width / 2) for i in range(number_seats) ] )"
   ]
  },
  {
   "cell_type": "code",
   "execution_count": 5,
   "metadata": {},
   "outputs": [],
   "source": [
    "y_seats = np.array( [ (i // seating_columns) * (seat_depth + seat_depth_gap) + (seat_depth / 2) for i in range(number_seats) ] )"
   ]
  },
  {
   "cell_type": "code",
   "execution_count": 6,
   "metadata": {},
   "outputs": [],
   "source": [
    "ticket_size = np.random.randint(low =1, high = 10, size = number_tickets)"
   ]
  },
  {
   "cell_type": "code",
   "execution_count": 7,
   "metadata": {},
   "outputs": [
    {
     "data": {
      "text/plain": [
       "array([2, 8, 2, 1, 3, 6, 1, 4, 3, 3, 6, 6, 1, 1, 4, 1, 4, 2, 5, 3, 2, 7,\n",
       "       8, 7, 3, 5, 9, 4, 3, 5, 1, 1, 9, 6, 8, 3, 9, 8, 9, 6, 5, 9, 3, 9,\n",
       "       4, 7, 5, 4, 7, 7])"
      ]
     },
     "execution_count": 7,
     "metadata": {},
     "output_type": "execute_result"
    }
   ],
   "source": [
    "ticket_size"
   ]
  },
  {
   "cell_type": "raw",
   "metadata": {},
   "source": [
    "[(x_seats[i],y_seats[i]) for i in range(number_seats)]"
   ]
  },
  {
   "cell_type": "code",
   "execution_count": 11,
   "metadata": {},
   "outputs": [
    {
     "ename": "TypeError",
     "evalue": "",
     "output_type": "error",
     "traceback": [
      "\u001b[1;31m---------------------------------------------------------------------------\u001b[0m",
      "\u001b[1;31mTypeError\u001b[0m                                 Traceback (most recent call last)",
      "\u001b[1;32m<ipython-input-11-fcefbf776676>\u001b[0m in \u001b[0;36m<module>\u001b[1;34m\u001b[0m\n\u001b[0;32m     69\u001b[0m \u001b[1;33m\u001b[0m\u001b[0m\n\u001b[0;32m     70\u001b[0m \u001b[1;32mif\u001b[0m \u001b[0m__name__\u001b[0m \u001b[1;33m==\u001b[0m \u001b[1;34m'__main__'\u001b[0m\u001b[1;33m:\u001b[0m\u001b[1;33m\u001b[0m\u001b[1;33m\u001b[0m\u001b[0m\n\u001b[1;32m---> 71\u001b[1;33m     \u001b[0msoln\u001b[0m \u001b[1;33m=\u001b[0m \u001b[0mmain\u001b[0m\u001b[1;33m(\u001b[0m\u001b[1;33m)\u001b[0m\u001b[1;33m\u001b[0m\u001b[1;33m\u001b[0m\u001b[0m\n\u001b[0m",
      "\u001b[1;32m<ipython-input-11-fcefbf776676>\u001b[0m in \u001b[0;36mmain\u001b[1;34m()\u001b[0m\n\u001b[0;32m     32\u001b[0m                        - solver.Sum([ x[i,n] * x_seats[i] for i in range(number_seats)]) ) *  # change to square or do fancy stuff\n\u001b[0;32m     33\u001b[0m                         (solver.Sum([ x[i,m] * x_seats[i] for i in range(number_seats)]) \n\u001b[1;32m---> 34\u001b[1;33m                        - solver.Sum([ x[i,n] * x_seats[i] for i in range(number_seats)]) ))\n\u001b[0m\u001b[0;32m     35\u001b[0m                         \u001b[1;33m+\u001b[0m\u001b[1;33m\u001b[0m\u001b[1;33m\u001b[0m\u001b[0m\n\u001b[0;32m     36\u001b[0m                         ((solver.Sum([ x[i,m] * y_seats[i] for i in range(number_seats)]) \n",
      "\u001b[1;32mC:\\ProgramData\\Anaconda3\\lib\\site-packages\\ortools\\linear_solver\\linear_solver_natural_api.py\u001b[0m in \u001b[0;36m__mul__\u001b[1;34m(self, cst)\u001b[0m\n\u001b[0;32m    115\u001b[0m \u001b[1;33m\u001b[0m\u001b[0m\n\u001b[0;32m    116\u001b[0m   \u001b[1;32mdef\u001b[0m \u001b[0m__mul__\u001b[0m\u001b[1;33m(\u001b[0m\u001b[0mself\u001b[0m\u001b[1;33m,\u001b[0m \u001b[0mcst\u001b[0m\u001b[1;33m)\u001b[0m\u001b[1;33m:\u001b[0m\u001b[1;33m\u001b[0m\u001b[1;33m\u001b[0m\u001b[0m\n\u001b[1;32m--> 117\u001b[1;33m     \u001b[1;32mreturn\u001b[0m \u001b[0mProductCst\u001b[0m\u001b[1;33m(\u001b[0m\u001b[0mself\u001b[0m\u001b[1;33m,\u001b[0m \u001b[0mcst\u001b[0m\u001b[1;33m)\u001b[0m\u001b[1;33m\u001b[0m\u001b[1;33m\u001b[0m\u001b[0m\n\u001b[0m\u001b[0;32m    118\u001b[0m \u001b[1;33m\u001b[0m\u001b[0m\n\u001b[0;32m    119\u001b[0m   \u001b[1;32mdef\u001b[0m \u001b[0m__rmul__\u001b[0m\u001b[1;33m(\u001b[0m\u001b[0mself\u001b[0m\u001b[1;33m,\u001b[0m \u001b[0mcst\u001b[0m\u001b[1;33m)\u001b[0m\u001b[1;33m:\u001b[0m\u001b[1;33m\u001b[0m\u001b[1;33m\u001b[0m\u001b[0m\n",
      "\u001b[1;32mC:\\ProgramData\\Anaconda3\\lib\\site-packages\\ortools\\linear_solver\\linear_solver_natural_api.py\u001b[0m in \u001b[0;36m__init__\u001b[1;34m(self, expr, coef)\u001b[0m\n\u001b[0;32m    177\u001b[0m       \u001b[0mself\u001b[0m\u001b[1;33m.\u001b[0m\u001b[0m__coef\u001b[0m \u001b[1;33m=\u001b[0m \u001b[0mcoef\u001b[0m\u001b[1;33m\u001b[0m\u001b[1;33m\u001b[0m\u001b[0m\n\u001b[0;32m    178\u001b[0m     \u001b[1;32melse\u001b[0m\u001b[1;33m:\u001b[0m\u001b[1;33m\u001b[0m\u001b[1;33m\u001b[0m\u001b[0m\n\u001b[1;32m--> 179\u001b[1;33m       \u001b[1;32mraise\u001b[0m \u001b[0mTypeError\u001b[0m\u001b[1;33m\u001b[0m\u001b[1;33m\u001b[0m\u001b[0m\n\u001b[0m\u001b[0;32m    180\u001b[0m \u001b[1;33m\u001b[0m\u001b[0m\n\u001b[0;32m    181\u001b[0m   \u001b[1;32mdef\u001b[0m \u001b[0m__str__\u001b[0m\u001b[1;33m(\u001b[0m\u001b[0mself\u001b[0m\u001b[1;33m)\u001b[0m\u001b[1;33m:\u001b[0m\u001b[1;33m\u001b[0m\u001b[1;33m\u001b[0m\u001b[0m\n",
      "\u001b[1;31mTypeError\u001b[0m: "
     ]
    }
   ],
   "source": [
    "def main():\n",
    "    # Data\n",
    "    \n",
    "        \n",
    "    \n",
    "    # Solver\n",
    "    # Create the mip solver with the CBC backend.\n",
    "    solver = pywraplp.Solver.CreateSolver('assignment_mip', 'CBC')\n",
    "\n",
    "\n",
    "    # Variables\n",
    "    # x[i, j] is an array of 0-1 variables, which will be 1\n",
    "    # if worker i is assigned to task j.\n",
    "    x = {}\n",
    "    for i in range(number_seats):\n",
    "        for j in range(number_tickets):\n",
    "            x[i, j] = solver.IntVar(0, 1, '')\n",
    "\n",
    "    # Constraints\n",
    "    # Each ticekt is assigned to only one seat max\n",
    "    for i in range(number_seats):\n",
    "        solver.Add(solver.Sum([x[i, j] for j in range(number_tickets)]) <= 1)\n",
    "    \n",
    "    for j in range(number_tickets):\n",
    "        solver.Add(solver.Sum([x[i, j] for i in range(number_seats)]) == 1)\n",
    "        \n",
    "    # seating distance maintained\n",
    "    for m, n in combinations(range(number_tickets), 2):\n",
    "        solver.Add(\n",
    "                    (\n",
    "                       ((solver.Sum([ x[i,m] * x_seats[i] for i in range(number_seats)]) \n",
    "                       - solver.Sum([ x[i,n] * x_seats[i] for i in range(number_seats)]) ) *  # change to square or do fancy stuff\n",
    "                        (solver.Sum([ x[i,m] * x_seats[i] for i in range(number_seats)]) \n",
    "                       - solver.Sum([ x[i,n] * x_seats[i] for i in range(number_seats)]) ))\n",
    "                        +\n",
    "                        ((solver.Sum([ x[i,m] * y_seats[i] for i in range(number_seats)]) \n",
    "                       - solver.Sum([ x[i,n] * y_seats[i] for i in range(number_seats)]) ) * \n",
    "                        (solver.Sum([ x[i,m] * y_seats[i] for i in range(number_seats)]) \n",
    "                       - solver.Sum([ x[i,n] * y_seats[i] for i in range(number_seats)]) ))\n",
    "                        \n",
    "                    ) >= 4\n",
    "                )\n",
    "\n",
    "    \n",
    "\n",
    "    # Objective\n",
    "    objective_terms = []\n",
    "    for i in range(number_seats):\n",
    "        for j in range(number_tickets):\n",
    "            objective_terms.append(ticket_size[j] * x[i, j])\n",
    "    solver.Maximize(solver.Sum(objective_terms))\n",
    "\n",
    "    # Solve\n",
    "    status = solver.Solve()\n",
    "\n",
    "    # Print solution.\n",
    "    if status == pywraplp.Solver.OPTIMAL or status == pywraplp.Solver.FEASIBLE:\n",
    "        print('Total cost = ', solver.Objective().Value(), '\\n')\n",
    "        for i in range(number_seats):\n",
    "            for j in range(number_tickets):\n",
    "                # Test if x[i,j] is 1 (with tolerance for floating point arithmetic).\n",
    "                if x[i, j].solution_value() > 0.5:\n",
    "                    #print('Worker %d assigned to task %d.  Cost = %d' %\n",
    "                          #(i, j, costs[i][j]))\n",
    "                        print(i,j)\n",
    "    else:\n",
    "        return status\n",
    "\n",
    "\n",
    "if __name__ == '__main__':\n",
    "    soln = main()"
   ]
  },
  {
   "cell_type": "code",
   "execution_count": 9,
   "metadata": {},
   "outputs": [
    {
     "data": {
      "text/plain": [
       "array([ 0.25,  0.95,  1.65,  2.35,  3.05,  3.75,  4.45,  5.15,  5.85,\n",
       "        6.55,  7.25,  7.95,  8.65,  9.35, 10.05, 10.75, 11.45, 12.15,\n",
       "       12.85, 13.55,  0.25,  0.95,  1.65,  2.35,  3.05,  3.75,  4.45,\n",
       "        5.15,  5.85,  6.55,  7.25,  7.95,  8.65,  9.35, 10.05, 10.75,\n",
       "       11.45, 12.15, 12.85, 13.55,  0.25,  0.95,  1.65,  2.35,  3.05,\n",
       "        3.75,  4.45,  5.15,  5.85,  6.55,  7.25,  7.95,  8.65,  9.35,\n",
       "       10.05, 10.75, 11.45, 12.15, 12.85, 13.55,  0.25,  0.95,  1.65,\n",
       "        2.35,  3.05,  3.75,  4.45,  5.15,  5.85,  6.55,  7.25,  7.95,\n",
       "        8.65,  9.35, 10.05, 10.75, 11.45, 12.15, 12.85, 13.55,  0.25,\n",
       "        0.95,  1.65,  2.35,  3.05,  3.75,  4.45,  5.15,  5.85,  6.55,\n",
       "        7.25,  7.95,  8.65,  9.35, 10.05, 10.75, 11.45, 12.15, 12.85,\n",
       "       13.55,  0.25,  0.95,  1.65,  2.35,  3.05,  3.75,  4.45,  5.15,\n",
       "        5.85,  6.55,  7.25,  7.95,  8.65,  9.35, 10.05, 10.75, 11.45,\n",
       "       12.15, 12.85, 13.55,  0.25,  0.95,  1.65,  2.35,  3.05,  3.75,\n",
       "        4.45,  5.15,  5.85,  6.55,  7.25,  7.95,  8.65,  9.35, 10.05,\n",
       "       10.75, 11.45, 12.15, 12.85, 13.55,  0.25,  0.95,  1.65,  2.35,\n",
       "        3.05,  3.75,  4.45,  5.15,  5.85,  6.55,  7.25,  7.95,  8.65,\n",
       "        9.35, 10.05, 10.75, 11.45, 12.15, 12.85, 13.55,  0.25,  0.95,\n",
       "        1.65,  2.35,  3.05,  3.75,  4.45,  5.15,  5.85,  6.55,  7.25,\n",
       "        7.95,  8.65,  9.35, 10.05, 10.75, 11.45, 12.15, 12.85, 13.55,\n",
       "        0.25,  0.95,  1.65,  2.35,  3.05,  3.75,  4.45,  5.15,  5.85,\n",
       "        6.55,  7.25,  7.95,  8.65,  9.35, 10.05, 10.75, 11.45, 12.15,\n",
       "       12.85, 13.55,  0.25,  0.95,  1.65,  2.35,  3.05,  3.75,  4.45,\n",
       "        5.15,  5.85,  6.55,  7.25,  7.95,  8.65,  9.35, 10.05, 10.75,\n",
       "       11.45, 12.15, 12.85, 13.55,  0.25,  0.95,  1.65,  2.35,  3.05,\n",
       "        3.75,  4.45,  5.15,  5.85,  6.55,  7.25,  7.95,  8.65,  9.35,\n",
       "       10.05, 10.75, 11.45, 12.15, 12.85, 13.55,  0.25,  0.95,  1.65,\n",
       "        2.35,  3.05,  3.75,  4.45,  5.15,  5.85,  6.55,  7.25,  7.95,\n",
       "        8.65,  9.35, 10.05, 10.75, 11.45, 12.15, 12.85, 13.55,  0.25,\n",
       "        0.95,  1.65,  2.35,  3.05,  3.75,  4.45,  5.15,  5.85,  6.55,\n",
       "        7.25,  7.95,  8.65,  9.35, 10.05, 10.75, 11.45, 12.15, 12.85,\n",
       "       13.55,  0.25,  0.95,  1.65,  2.35,  3.05,  3.75,  4.45,  5.15,\n",
       "        5.85,  6.55,  7.25,  7.95,  8.65,  9.35, 10.05, 10.75, 11.45,\n",
       "       12.15, 12.85, 13.55,  0.25,  0.95,  1.65,  2.35,  3.05,  3.75,\n",
       "        4.45,  5.15,  5.85,  6.55,  7.25,  7.95,  8.65,  9.35, 10.05,\n",
       "       10.75, 11.45, 12.15, 12.85, 13.55,  0.25,  0.95,  1.65,  2.35,\n",
       "        3.05,  3.75,  4.45,  5.15,  5.85,  6.55,  7.25,  7.95,  8.65,\n",
       "        9.35, 10.05, 10.75, 11.45, 12.15, 12.85, 13.55,  0.25,  0.95,\n",
       "        1.65,  2.35,  3.05,  3.75,  4.45,  5.15,  5.85,  6.55,  7.25,\n",
       "        7.95,  8.65,  9.35, 10.05, 10.75, 11.45, 12.15, 12.85, 13.55,\n",
       "        0.25,  0.95,  1.65,  2.35,  3.05,  3.75,  4.45,  5.15,  5.85,\n",
       "        6.55,  7.25,  7.95,  8.65,  9.35, 10.05, 10.75, 11.45, 12.15,\n",
       "       12.85, 13.55,  0.25,  0.95,  1.65,  2.35,  3.05,  3.75,  4.45,\n",
       "        5.15,  5.85,  6.55,  7.25,  7.95,  8.65,  9.35, 10.05, 10.75,\n",
       "       11.45, 12.15, 12.85, 13.55])"
      ]
     },
     "execution_count": 9,
     "metadata": {},
     "output_type": "execute_result"
    }
   ],
   "source": []
  },
  {
   "cell_type": "code",
   "execution_count": null,
   "metadata": {},
   "outputs": [],
   "source": []
  }
 ],
 "metadata": {
  "kernelspec": {
   "display_name": "Python 3",
   "language": "python",
   "name": "python3"
  },
  "language_info": {
   "codemirror_mode": {
    "name": "ipython",
    "version": 3
   },
   "file_extension": ".py",
   "mimetype": "text/x-python",
   "name": "python",
   "nbconvert_exporter": "python",
   "pygments_lexer": "ipython3",
   "version": "3.7.4"
  }
 },
 "nbformat": 4,
 "nbformat_minor": 4
}
