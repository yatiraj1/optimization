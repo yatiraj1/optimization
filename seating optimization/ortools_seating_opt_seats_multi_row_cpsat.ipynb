{
 "cells": [
  {
   "cell_type": "code",
   "execution_count": 70,
   "metadata": {},
   "outputs": [],
   "source": [
    "from ortools.sat.python import cp_model"
   ]
  },
  {
   "cell_type": "code",
   "execution_count": 71,
   "metadata": {},
   "outputs": [],
   "source": [
    "import pandas as pd\n",
    "import numpy as np\n",
    "import seaborn as sns\n",
    "from matplotlib import pyplot as plt\n",
    "from itertools import combinations, permutations\n",
    "import time\n",
    "from sympy import Point, Eq\n",
    "from sympy.geometry import Line, Segment, Polygon"
   ]
  },
  {
   "cell_type": "code",
   "execution_count": 72,
   "metadata": {},
   "outputs": [],
   "source": [
    "line1 = Line(Point(0.25,0.25), Point(0.75, 1))"
   ]
  },
  {
   "cell_type": "code",
   "execution_count": 73,
   "metadata": {},
   "outputs": [
    {
     "data": {
      "text/latex": [
       "$\\displaystyle Point2D\\left(\\frac{3}{260}, - \\frac{1}{130}\\right)$"
      ],
      "text/plain": [
       "Point2D(3/260, -1/130)"
      ]
     },
     "execution_count": 73,
     "metadata": {},
     "output_type": "execute_result"
    }
   ],
   "source": [
    "line1.projection(Point(0.2,0.2)) - Point(0.2,0.2)"
   ]
  },
  {
   "cell_type": "code",
   "execution_count": null,
   "metadata": {},
   "outputs": [],
   "source": []
  },
  {
   "cell_type": "code",
   "execution_count": 74,
   "metadata": {},
   "outputs": [],
   "source": [
    "number_tickets = 10\n",
    "seating_rows = 20\n",
    "seating_columns = 20\n",
    "number_seats = seating_rows * seating_columns\n",
    "seat_depth = 0.5\n",
    "seat_depth_gap = 0.2\n",
    "seat_width = 0.5\n",
    "seat_width_gap = 0.2\n",
    "max_group_size = 8"
   ]
  },
  {
   "cell_type": "code",
   "execution_count": 113,
   "metadata": {},
   "outputs": [],
   "source": [
    "GEOMETRY = \"rectangle\"\n",
    "front_row_seat_length = 20\n",
    "last_row_seat_length = 16"
   ]
  },
  {
   "cell_type": "code",
   "execution_count": 114,
   "metadata": {},
   "outputs": [],
   "source": [
    "group_size_limits = {\n",
    "    8 : 2,\n",
    "    7 : 2,\n",
    "    #6 : 20,\n",
    "    5 : 1,\n",
    "    4 : 5,\n",
    "    3 : 1,\n",
    "    2 : 1,\n",
    "}"
   ]
  },
  {
   "cell_type": "code",
   "execution_count": 115,
   "metadata": {},
   "outputs": [],
   "source": [
    "within_group_seating = {\n",
    "    8 : {'x' : [0, 1, 2, 3, 0, 1, 2, 3], 'y' : [0, 0, 0, 0, 1, 1, 1, 1]},\n",
    "    7 : {'x' : [0, 1, 2, 3, 0, 1, 2], 'y' : [0, 0, 0, 0, 1, 1, 1]},\n",
    "    6 : {'x' : [0, 1, 2, 0, 1, 2], 'y' : [0, 0, 0, 1, 1, 1]},\n",
    "    5 : {'x' : [0, 1, 2, 0, 1], 'y' : [0, 0, 0, 1, 1]},\n",
    "    4 : {'x' : [0, 1, 0, 1], 'y' : [0, 0, 1, 1]},\n",
    "    3 : {'x' : [0, 1, 2], 'y' : [0, 0, 0]},\n",
    "    2 : {'x' : [0, 1], 'y' : [0, 0]},\n",
    "    1 : {'x' : [0] , 'y' : [0]},\n",
    "}"
   ]
  },
  {
   "cell_type": "code",
   "execution_count": 116,
   "metadata": {},
   "outputs": [],
   "source": [
    "def within_group_seating_to_indexed():\n",
    "    indexed_group_seating  = {}\n",
    "    \n",
    "    for key, value in within_group_seating.items():\n",
    "        assert( len(value['x']) == len(value['y']) )\n",
    "        indexed = [ value['x'][ind] + value['y'][ind]*seating_columns for ind in range(len(value['x']))]\n",
    "        indexed_group_seating[key] = indexed\n",
    "    \n",
    "    return indexed_group_seating"
   ]
  },
  {
   "cell_type": "code",
   "execution_count": 117,
   "metadata": {},
   "outputs": [],
   "source": [
    "indexed_group_seating = within_group_seating_to_indexed()"
   ]
  },
  {
   "cell_type": "code",
   "execution_count": 118,
   "metadata": {},
   "outputs": [
    {
     "ename": "KeyError",
     "evalue": "0",
     "output_type": "error",
     "traceback": [
      "\u001b[1;31m---------------------------------------------------------------------------\u001b[0m",
      "\u001b[1;31mKeyError\u001b[0m                                  Traceback (most recent call last)",
      "\u001b[1;32m<ipython-input-118-a68e91538c80>\u001b[0m in \u001b[0;36m<module>\u001b[1;34m\u001b[0m\n\u001b[0;32m      2\u001b[0m \u001b[0mexcluded_groups\u001b[0m\u001b[1;33m.\u001b[0m\u001b[0mremove\u001b[0m\u001b[1;33m(\u001b[0m\u001b[1;36m0\u001b[0m\u001b[1;33m)\u001b[0m\u001b[1;33m\u001b[0m\u001b[1;33m\u001b[0m\u001b[0m\n\u001b[0;32m      3\u001b[0m \u001b[0mincluded_groups\u001b[0m \u001b[1;33m=\u001b[0m \u001b[0mset\u001b[0m\u001b[1;33m(\u001b[0m\u001b[1;33m[\u001b[0m \u001b[0mvalue\u001b[0m \u001b[1;32mif\u001b[0m \u001b[0mvalue\u001b[0m \u001b[1;32mnot\u001b[0m \u001b[1;32min\u001b[0m \u001b[0mexcluded_groups\u001b[0m \u001b[1;32melse\u001b[0m \u001b[1;36m0\u001b[0m \u001b[1;32mfor\u001b[0m \u001b[0mvalue\u001b[0m \u001b[1;32min\u001b[0m \u001b[0mrange\u001b[0m\u001b[1;33m(\u001b[0m\u001b[1;36m1\u001b[0m\u001b[1;33m,\u001b[0m \u001b[0mmax_group_size\u001b[0m \u001b[1;33m+\u001b[0m \u001b[1;36m1\u001b[0m\u001b[1;33m)\u001b[0m\u001b[1;33m]\u001b[0m\u001b[1;33m)\u001b[0m\u001b[1;33m\u001b[0m\u001b[1;33m\u001b[0m\u001b[0m\n\u001b[1;32m----> 4\u001b[1;33m \u001b[0mincluded_groups\u001b[0m\u001b[1;33m.\u001b[0m\u001b[0mremove\u001b[0m\u001b[1;33m(\u001b[0m\u001b[1;36m0\u001b[0m\u001b[1;33m)\u001b[0m\u001b[1;33m\u001b[0m\u001b[1;33m\u001b[0m\u001b[0m\n\u001b[0m",
      "\u001b[1;31mKeyError\u001b[0m: 0"
     ]
    }
   ],
   "source": [
    "excluded_groups = set([ key if value == 0 else 0 for key, value in group_size_limits.items() ])\n",
    "\n",
    "included_groups = set([ value if value not in excluded_groups else 0 for value in range(1, max_group_size + 1)])"
   ]
  },
  {
   "cell_type": "code",
   "execution_count": null,
   "metadata": {},
   "outputs": [],
   "source": [
    "included_groups.remove(0)"
   ]
  },
  {
   "cell_type": "code",
   "execution_count": 119,
   "metadata": {},
   "outputs": [
    {
     "name": "stdout",
     "output_type": "stream",
     "text": [
      "set()\n"
     ]
    }
   ],
   "source": [
    "print(excluded_groups)"
   ]
  },
  {
   "cell_type": "code",
   "execution_count": 120,
   "metadata": {},
   "outputs": [],
   "source": [
    "x_seats = np.array( [ (i % seating_columns) * (seat_width + seat_width_gap) + (seat_width / 2) for i in range(number_seats) ] )"
   ]
  },
  {
   "cell_type": "code",
   "execution_count": 121,
   "metadata": {},
   "outputs": [],
   "source": [
    "y_seats = np.array( [ (i // seating_columns) * (seat_depth + seat_depth_gap) + (seat_depth / 2) for i in range(number_seats) ] )"
   ]
  },
  {
   "cell_type": "code",
   "execution_count": 122,
   "metadata": {},
   "outputs": [],
   "source": [
    "#ticket_size = np.random.randint(low =1, high = 10, size = number_tickets)\n",
    "ticket_size = np.ones(number_tickets)"
   ]
  },
  {
   "cell_type": "code",
   "execution_count": 123,
   "metadata": {},
   "outputs": [
    {
     "data": {
      "text/plain": [
       "array([1., 1., 1., 1., 1., 1., 1., 1., 1., 1.])"
      ]
     },
     "execution_count": 123,
     "metadata": {},
     "output_type": "execute_result"
    }
   ],
   "source": [
    "ticket_size"
   ]
  },
  {
   "cell_type": "code",
   "execution_count": 124,
   "metadata": {},
   "outputs": [],
   "source": [
    "model = cp_model.CpModel()\n",
    "model.StringParameters = \"num_search_workers:8\""
   ]
  },
  {
   "cell_type": "code",
   "execution_count": 125,
   "metadata": {},
   "outputs": [],
   "source": [
    "x = {}"
   ]
  },
  {
   "cell_type": "code",
   "execution_count": 126,
   "metadata": {},
   "outputs": [],
   "source": [
    "def create_pairs(included_groups):\n",
    "    return combinations(included_groups, 2)"
   ]
  },
  {
   "cell_type": "code",
   "execution_count": 127,
   "metadata": {},
   "outputs": [],
   "source": [
    "def trapezium_rules():\n",
    "    return True"
   ]
  },
  {
   "cell_type": "code",
   "execution_count": 128,
   "metadata": {},
   "outputs": [],
   "source": [
    "def is_seat_geometry_excluded(seat_num):\n",
    "    if GEOMETRY == 'rectanlge':\n",
    "        return False\n",
    "    elif GEOMETRY == 'trapezium':\n",
    "        \"\"\"line1 = Line( Point(seat_width/2, seat_depth/2), Point( (seating_columns - last_row_seat_length) * (seat_width + seat_width_gap) / 2, (seating_rows - 1) * (seat_depth + seat_depth_gap) ) )\n",
    "        line = Line( Point(seat_width/2, seat_depth/2), Point(i, j) )\n",
    "        #return line1.angle_between(line) > 0\n",
    "        trap = Polygon(\n",
    "                        Point(seat_width/2, seat_depth/2),\n",
    "                        Point( 0.5 * (seating_columns - last_row_seat_length) * (seat_width + seat_width_gap) + 0.5 * seat_width, (seating_rows - 1) * (seat_depth + seat_depth_gap) + seating_ ),\n",
    "                        Point(, (seating_rows - 1) * (seat_depth + seat_depth_gap))\n",
    "        )\"\"\"\n",
    "        pad = 0.01\n",
    "        trap = Polygon(\n",
    "                        Point(x_seats[0]-pad, y_seats[0]-pad),\n",
    "                        Point(x_seats[seating_columns - 1]+pad, y_seats[seating_columns - 1]-pad),\n",
    "                        Point(x_seats[int(number_seats - 0.5*(seating_columns - last_row_seat_length))] +pad, y_seats[int(number_seats - 0.5*(seating_columns - last_row_seat_length))]+pad),\n",
    "                        Point(x_seats[int(number_seats - 0.5*(seating_columns - last_row_seat_length) - last_row_seat_length)] -pad, y_seats[int(number_seats - 0.5*(seating_columns - last_row_seat_length) - last_row_seat_length)]+pad)\n",
    "        )\n",
    "        trap = Polygon(\n",
    "                        Point(x_seats[0]-pad, y_seats[0]-pad),\n",
    "                        Point(x_seats[seating_columns - 1]+pad, y_seats[seating_columns - 1]-pad),\n",
    "                        Point(x_seats[int(number_seats - 0.5*(seating_columns - 10))] +pad, y_seats[int(number_seats - 0.5*(seating_columns - last_row_seat_length))]+pad),\n",
    "                        Point(x_seats[int(number_seats - 0.5*(seating_columns - last_row_seat_length) - last_row_seat_length)] -pad, y_seats[int(number_seats - 0.5*(seating_columns - last_row_seat_length) - last_row_seat_length)]+pad)\n",
    "        )\n",
    "        #print(trap.is_convex())\n",
    "        return trap.encloses_point( Point( x_seats[seat_num], y_seats[seat_num] )) == False\n"
   ]
  },
  {
   "cell_type": "code",
   "execution_count": 129,
   "metadata": {},
   "outputs": [],
   "source": [
    "is_seat_geometry_excluded(30)"
   ]
  },
  {
   "cell_type": "code",
   "execution_count": 130,
   "metadata": {},
   "outputs": [],
   "source": [
    "is_seat_geometry_excluded(5)"
   ]
  },
  {
   "cell_type": "code",
   "execution_count": 131,
   "metadata": {},
   "outputs": [],
   "source": [
    "def is_seat_group_size_excluded(i, j):\n",
    "    if i in excluded_groups:\n",
    "        return True\n",
    "    else:\n",
    "        return False"
   ]
  },
  {
   "cell_type": "code",
   "execution_count": 132,
   "metadata": {},
   "outputs": [],
   "source": [
    "def is_seat_excluded(i, j):\n",
    "    return is_seat_group_size_excluded(i, j) or is_seat_geometry_excluded(i, j)    "
   ]
  },
  {
   "cell_type": "code",
   "execution_count": 133,
   "metadata": {},
   "outputs": [],
   "source": [
    "def create_variables(max_group_size):\n",
    "    for i in included_groups:\n",
    "        for j in range(number_seats):\n",
    "            x[(i, j)] = model.NewBoolVar('x[%i,%i]' % (i, j))"
   ]
  },
  {
   "cell_type": "code",
   "execution_count": 134,
   "metadata": {},
   "outputs": [],
   "source": [
    "c=0\n",
    "def get_min_distance(a, b, group1, group2):\n",
    "    c=0\n",
    "    distances = []\n",
    "    distances.append((x_seats[a] - x_seats[b])**2 + (y_seats[a] - y_seats[b])**2)\n",
    "    for i in indexed_group_seating[group1]:\n",
    "        for j in indexed_group_seating[group2]:\n",
    "            try:\n",
    "                distances.append((x_seats[a+i] - x_seats[b+j])**2 + (y_seats[a+i] - y_seats[b+j])**2)\n",
    "            except:\n",
    "                c += 1\n",
    "                #print(a,b)\n",
    "    return min(distances)"
   ]
  },
  {
   "cell_type": "raw",
   "metadata": {},
   "source": [
    "create_same_group_constraints(max_group_size):\n",
    "    for a, b in permutations(range(number_seats), 2):\n",
    "        if get_min_distance(a, b, one, two) < 4:\n",
    "            solver.Add(solver.Sum([ x[(one, a)] , x[(two, b)] ]) <= 1)\n"
   ]
  },
  {
   "cell_type": "code",
   "execution_count": 97,
   "metadata": {},
   "outputs": [],
   "source": [
    "def create_group_size_constraints(max_group_size):\n",
    "    for gp in included_groups:\n",
    "        try:\n",
    "            model.Add(sum( [ x[gp, j] for j in range(number_seats) ] ) == group_size_limits[gp] ) #change from equal to lte\n",
    "        except:\n",
    "            print(\"no limit for group size \", gp)"
   ]
  },
  {
   "cell_type": "code",
   "execution_count": 98,
   "metadata": {},
   "outputs": [],
   "source": [
    "def create_pair_constraints(one, two):\n",
    "    for a, b in permutations(range(number_seats), 2):\n",
    "        if get_min_distance(a, b, one, two) < 4:\n",
    "            model.Add(sum([ x[(one, a)] , x[(two, b)] ]) <= 1)\n",
    "    "
   ]
  },
  {
   "cell_type": "code",
   "execution_count": null,
   "metadata": {},
   "outputs": [],
   "source": []
  },
  {
   "cell_type": "code",
   "execution_count": 99,
   "metadata": {},
   "outputs": [],
   "source": [
    "def create_individual_constraints(max_group_size):\n",
    "    c=0\n",
    "    for i in included_groups:\n",
    "        for j in range(number_seats):\n",
    "            if j % seating_columns >= seating_columns - i + 1:\n",
    "                #model.Add(x[(i, j)] == 0)\n",
    "                c+=1\n",
    "    print(c)\n",
    "            "
   ]
  },
  {
   "cell_type": "code",
   "execution_count": 105,
   "metadata": {},
   "outputs": [],
   "source": [
    "def create_individual_constraints(max_group_size):\n",
    "    c=0\n",
    "    for i in included_groups:\n",
    "        for j in range(number_seats):\n",
    "            if (j % seating_columns >= seating_columns - max(within_group_seating[i]['x']) ) or (j // seating_columns >= seating_rows - max(within_group_seating[i]['y'])):\n",
    "                model.Add(x[(i, j)] == 0)\n",
    "                c+=1\n",
    "    print(c)\n",
    "            "
   ]
  },
  {
   "cell_type": "raw",
   "metadata": {},
   "source": [
    "#new logic for edge cases in case seating overflows boundaries for any group\n",
    "if (j % seating_columns >= seating_columns - max(within_group_seating[i]['x']) ) or (j % seating_rows >= seating_rows - max(within_group_seating[i]['y'])):\n",
    "                model.Add(x[(i, j)] == 0)"
   ]
  },
  {
   "cell_type": "code",
   "execution_count": 106,
   "metadata": {},
   "outputs": [],
   "source": [
    "def create_exclusivity_constraints(max_group_size):\n",
    "    for j in range(number_seats):\n",
    "        terms = [ x[(i, j)] for i in included_groups ]\n",
    "        model.Add(sum(terms) <= 1)"
   ]
  },
  {
   "cell_type": "code",
   "execution_count": null,
   "metadata": {},
   "outputs": [],
   "source": []
  },
  {
   "cell_type": "code",
   "execution_count": 107,
   "metadata": {},
   "outputs": [],
   "source": [
    "def create_geometric_constraints():\n",
    "    d = 0\n",
    "    for i in included_groups:\n",
    "        for j in range(number_seats):\n",
    "            for k in range(i):\n",
    "                try:\n",
    "                    if is_seat_geometry_excluded(j + k):\n",
    "                        model.Add( x[i,j] == 0 )\n",
    "                except:\n",
    "                    d += 1"
   ]
  },
  {
   "cell_type": "code",
   "execution_count": 108,
   "metadata": {},
   "outputs": [],
   "source": [
    "def create_all_constraints(max_group_size):\n",
    "    group_pairs = create_pairs(included_groups)\n",
    "    for pair in group_pairs:\n",
    "        create_pair_constraints(pair[0], pair[1])\n",
    "    \n",
    "    group_self_pairs = [(d, d) for d in included_groups]\n",
    "    for pair in group_self_pairs:\n",
    "        create_pair_constraints(pair[0], pair[1])\n",
    "        \n",
    "    create_individual_constraints(max_group_size)\n",
    "    \n",
    "    create_exclusivity_constraints(max_group_size)\n",
    "    \n",
    "    create_group_size_constraints(max_group_size)\n",
    "    \n",
    "    create_geometric_constraints()"
   ]
  },
  {
   "cell_type": "code",
   "execution_count": 109,
   "metadata": {},
   "outputs": [],
   "source": [
    "def main():\n",
    "    # Data\n",
    "    \n",
    "        \n",
    "    \n",
    "    # Solver\n",
    "    # Create the mip solver with the CBC backend.\n",
    "    #solver = pywraplp.Solver.CreateSolver('assignment_mip', 'CBC')\n",
    "\n",
    "\n",
    "    # Variables\n",
    "    \n",
    "    \n",
    "    create_variables(max_group_size)\n",
    "    \n",
    "    # Constraints\n",
    "    create_all_constraints(max_group_size)\n",
    "    \n",
    "    # Objective\n",
    "    objective_terms = []\n",
    "    for j in range(number_seats):\n",
    "        for i in included_groups:\n",
    "            objective_terms.append( i * x[(i, j)] )\n",
    "    \n",
    "    model.Maximize(sum(objective_terms))\n",
    "    \n",
    "    # Solve\n",
    "    solver = cp_model.CpSolver()\n",
    "    solver.parameters.num_search_workers = 8\n",
    "    status = solver.Solve(model)\n",
    "    \n",
    "    print(\"status is \",status)\n",
    "    c = 0\n",
    "    #sol_matrix\n",
    "    sol_matrices = []\n",
    "    sol_matrices_fmt = []\n",
    "    for i in range(max_group_size):\n",
    "        sol_matrices.append(np.zeros((seating_rows, seating_columns)))\n",
    "        sol_matrices_fmt.append(np.zeros((seating_rows, seating_columns)))\n",
    "    # Print solution.\n",
    "    if status == cp_model.OPTIMAL or status == cp_model.FEASIBLE:\n",
    "        print('Total cost = ', solver.ObjectiveValue(), '\\n')\n",
    "        for k in range(len(sol_matrices)):\n",
    "            for i in range(seating_columns):\n",
    "                for j in range(seating_rows):\n",
    "                    # Test if x[i,j] is 1 (with tolerance for floating point arithmetic).\n",
    "                    try:\n",
    "                        if solver.BooleanValue(x[(k+1, i + j * seating_columns)]):\n",
    "                            #print('Worker %d assigned to task %d.  Cost = %d' %\n",
    "                                  #(i, j, costs[i][j]))\n",
    "\n",
    "                                sol_matrices[k][j,i] = 1 * (k+1)\n",
    "                                for m_x, m_y in zip(within_group_seating[k+1]['x'],within_group_seating[k+1]['y']):\n",
    "                                    sol_matrices_fmt[k][j + m_y , i + m_x] = 1 * (k+1)\n",
    "                        if is_seat_geometry_excluded(i + j * seating_columns):\n",
    "                                    sol_matrices[k][j,i] = np.nan\n",
    "                                    sol_matrices_fmt[k][j,i] = np.nan\n",
    "                    except:\n",
    "                        c += 1\n",
    "                    \n",
    "        return(sol_matrices, sol_matrices_fmt)\n",
    "    else:\n",
    "        return status\n"
   ]
  },
  {
   "cell_type": "code",
   "execution_count": 110,
   "metadata": {},
   "outputs": [
    {
     "name": "stdout",
     "output_type": "stream",
     "text": [
      "215\n",
      "no limit for group size  1\n",
      "no limit for group size  6\n",
      "status is  4\n",
      "Total cost =  120.0 \n",
      "\n"
     ]
    },
    {
     "data": {
      "text/plain": [
       "81.10201930999756"
      ]
     },
     "execution_count": 110,
     "metadata": {},
     "output_type": "execute_result"
    }
   ],
   "source": [
    "t1 = time.time()\n",
    "soln = main()\n",
    "t2 = time.time()\n",
    "t2-t1"
   ]
  },
  {
   "cell_type": "raw",
   "metadata": {},
   "source": [
    "318s without parallelization\n",
    "304s with model parallelized with StringParameters\n",
    "327s with solver parallelized with SatParameters\n",
    "244s with maximizer\n",
    "244s without maximizer"
   ]
  },
  {
   "cell_type": "code",
   "execution_count": 111,
   "metadata": {},
   "outputs": [
    {
     "data": {
      "text/plain": [
       "<matplotlib.axes._subplots.AxesSubplot at 0x29a9b78ff88>"
      ]
     },
     "execution_count": 111,
     "metadata": {},
     "output_type": "execute_result"
    },
    {
     "data": {
      "image/png": "[encoded data removed]",
      "text/plain": [
       "<Figure size 1440x1080 with 1 Axes>"
      ]
     },
     "metadata": {
      "needs_background": "light"
     },
     "output_type": "display_data"
    }
   ],
   "source": [
    "fig, ax = plt.subplots(figsize=(20,15))\n",
    "sns.heatmap(sum(soln[0]), linecolor = 'white', linewidths = 0.1, annot = True, ax = ax, cbar =False)"
   ]
  },
  {
   "cell_type": "code",
   "execution_count": 112,
   "metadata": {},
   "outputs": [
    {
     "data": {
      "text/plain": [
       "<matplotlib.axes._subplots.AxesSubplot at 0x29a9b8ccc48>"
      ]
     },
     "execution_count": 112,
     "metadata": {},
     "output_type": "execute_result"
    },
    {
     "data": {
      "image/png": "[encoded data removed]",
      "text/plain": [
       "<Figure size 1440x1080 with 1 Axes>"
      ]
     },
     "metadata": {
      "needs_background": "light"
     },
     "output_type": "display_data"
    }
   ],
   "source": [
    "fig, ax = plt.subplots(figsize=(20,15))\n",
    "sns.heatmap(sum(soln[1]), linecolor = 'white', linewidths = 0.1, annot = True, ax = ax, cbar =False)\n",
    "#fig.savefig(\"output.png\")"
   ]
  },
  {
   "cell_type": "code",
   "execution_count": null,
   "metadata": {},
   "outputs": [],
   "source": []
  },
  {
   "cell_type": "code",
   "execution_count": null,
   "metadata": {},
   "outputs": [],
   "source": []
  },
  {
   "cell_type": "raw",
   "metadata": {},
   "source": [
    "[(x_seats[i],y_seats[i]) for i in range(number_seats)]"
   ]
  },
  {
   "cell_type": "raw",
   "metadata": {},
   "source": [
    "pd.DataFrame(sum(soln[1])).to_csv(\"seating_optimization_for_400_seats_groups_trapezium_area.csv\")"
   ]
  },
  {
   "cell_type": "code",
   "execution_count": null,
   "metadata": {},
   "outputs": [],
   "source": []
  },
  {
   "cell_type": "code",
   "execution_count": null,
   "metadata": {},
   "outputs": [],
   "source": []
  },
  {
   "cell_type": "code",
   "execution_count": null,
   "metadata": {},
   "outputs": [],
   "source": []
  }
 ],
 "metadata": {
  "kernelspec": {
   "display_name": "Python 3",
   "language": "python",
   "name": "python3"
  },
  "language_info": {
   "codemirror_mode": {
    "name": "ipython",
    "version": 3
   },
   "file_extension": ".py",
   "mimetype": "text/x-python",
   "name": "python",
   "nbconvert_exporter": "python",
   "pygments_lexer": "ipython3",
   "version": "3.7.4"
  }
 },
 "nbformat": 4,
 "nbformat_minor": 4
}
