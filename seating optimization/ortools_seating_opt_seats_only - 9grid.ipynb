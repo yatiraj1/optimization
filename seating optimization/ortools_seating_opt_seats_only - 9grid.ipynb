{
 "cells": [
  {
   "cell_type": "code",
   "execution_count": 1,
   "metadata": {},
   "outputs": [],
   "source": [
    "from ortools.linear_solver import pywraplp"
   ]
  },
  {
   "cell_type": "code",
   "execution_count": 2,
   "metadata": {},
   "outputs": [],
   "source": [
    "import pandas as pd\n",
    "import numpy as np\n",
    "import seaborn as sns\n",
    "from matplotlib import pyplot as plt\n",
    "from itertools import combinations\n",
    "import time"
   ]
  },
  {
   "cell_type": "code",
   "execution_count": 3,
   "metadata": {},
   "outputs": [],
   "source": [
    "number_tickets = 10\n",
    "seating_rows = 28\n",
    "seating_columns = 28\n",
    "number_seats = seating_rows * seating_columns\n",
    "seat_depth = 0.5\n",
    "seat_depth_gap = 0.2\n",
    "seat_width = 0.5\n",
    "seat_width_gap = 0.2"
   ]
  },
  {
   "cell_type": "code",
   "execution_count": 4,
   "metadata": {},
   "outputs": [],
   "source": [
    "x_seats = np.array( [ (i % seating_columns) * (seat_width + seat_width_gap) + (seat_width / 2) for i in range(number_seats) ] )"
   ]
  },
  {
   "cell_type": "code",
   "execution_count": 5,
   "metadata": {},
   "outputs": [],
   "source": [
    "y_seats = np.array( [ (i // seating_columns) * (seat_depth + seat_depth_gap) + (seat_depth / 2) for i in range(number_seats) ] )"
   ]
  },
  {
   "cell_type": "code",
   "execution_count": 6,
   "metadata": {},
   "outputs": [],
   "source": [
    "#ticket_size = np.random.randint(low =1, high = 10, size = number_tickets)\n",
    "ticket_size = np.ones(number_tickets)"
   ]
  },
  {
   "cell_type": "code",
   "execution_count": 7,
   "metadata": {},
   "outputs": [
    {
     "data": {
      "text/plain": [
       "array([1., 1., 1., 1., 1., 1., 1., 1., 1., 1.])"
      ]
     },
     "execution_count": 7,
     "metadata": {},
     "output_type": "execute_result"
    }
   ],
   "source": [
    "ticket_size"
   ]
  },
  {
   "cell_type": "raw",
   "metadata": {},
   "source": [
    "[(x_seats[i],y_seats[i]) for i in range(number_seats)]"
   ]
  },
  {
   "cell_type": "code",
   "execution_count": 8,
   "metadata": {},
   "outputs": [],
   "source": [
    "def main():\n",
    "    # Data\n",
    "    \n",
    "        \n",
    "    \n",
    "    # Solver\n",
    "    # Create the mip solver with the CBC backend.\n",
    "    solver = pywraplp.Solver.CreateSolver('assignment_mip', 'CBC')\n",
    "\n",
    "\n",
    "    # Variables\n",
    "    # x[i, j] is an array of 0-1 variables, which will be 1\n",
    "    # if worker i is assigned to task j.\n",
    "    x = {}\n",
    "    for i in range(number_seats):\n",
    "        x[i] = solver.IntVar(0, 1, '')\n",
    "\n",
    "    # Constraints\n",
    "    # extreme rows and columns are empty\n",
    "    \"\"\"for i in range(number_seats):\n",
    "        if i % seating_rows == 0 or i % seating_rows == seating_rows - 1:\n",
    "            solver.Add(x[i] == 0)\n",
    "    \n",
    "    for j in range(number_seats):\n",
    "        if j < seating_columns or j > number_seats - seating_columns:\n",
    "            solver.Add(x[j] == 0)\"\"\"\n",
    "    \n",
    "    #distance constraint\n",
    "    for a, b in combinations(range(number_seats), 2):\n",
    "        if (x_seats[a] - x_seats[b])**2 + (y_seats[a] - y_seats[b])**2 < (2 + seat_width + seat_width_gap) ** 2:\n",
    "            solver.Add(solver.Sum([ x[a] , x[b] ]) <= 1 )\n",
    "    \n",
    "    \n",
    "    # Objective\n",
    "    objective_terms = []\n",
    "    for i in range(number_seats):\n",
    "        objective_terms.append(x[i])\n",
    "    solver.Maximize(solver.Sum(objective_terms))\n",
    "\n",
    "    # Solve\n",
    "    status = solver.Solve()\n",
    "    \n",
    "    #sol_matrix\n",
    "    soln_matrix = np.zeros((seating_rows, seating_columns))\n",
    "    # Print solution.\n",
    "    if status == pywraplp.Solver.OPTIMAL or status == pywraplp.Solver.FEASIBLE:\n",
    "        print('Total cost = ', solver.Objective().Value(), '\\n')\n",
    "        for i in range(seating_rows):\n",
    "            for j in range(seating_columns):\n",
    "                # Test if x[i,j] is 1 (with tolerance for floating point arithmetic).\n",
    "                if x[i + j * seating_columns].solution_value() > 0.5:\n",
    "                    #print('Worker %d assigned to task %d.  Cost = %d' %\n",
    "                          #(i, j, costs[i][j]))\n",
    "                        print(i,j)\n",
    "                        soln_matrix[i,j] = 1# creating and returning the solution in grid / matrix form\n",
    "        return(soln_matrix)\n",
    "    else:\n",
    "        return status\n"
   ]
  },
  {
   "cell_type": "code",
   "execution_count": 9,
   "metadata": {},
   "outputs": [
    {
     "name": "stdout",
     "output_type": "stream",
     "text": [
      "Total cost =  56.0 \n",
      "\n",
      "0 0\n",
      "0 4\n",
      "0 8\n",
      "0 14\n",
      "0 19\n",
      "0 23\n",
      "0 27\n",
      "3 11\n",
      "4 0\n",
      "4 4\n",
      "4 15\n",
      "4 19\n",
      "4 23\n",
      "4 27\n",
      "6 8\n",
      "7 12\n",
      "8 4\n",
      "8 19\n",
      "8 23\n",
      "8 27\n",
      "9 0\n",
      "10 8\n",
      "11 12\n",
      "11 16\n",
      "12 4\n",
      "12 20\n",
      "12 26\n",
      "13 0\n",
      "15 7\n",
      "15 11\n",
      "15 15\n",
      "15 23\n",
      "16 3\n",
      "16 19\n",
      "16 27\n",
      "19 0\n",
      "19 8\n",
      "19 12\n",
      "19 16\n",
      "19 24\n",
      "20 4\n",
      "20 20\n",
      "23 0\n",
      "23 8\n",
      "23 13\n",
      "23 17\n",
      "23 23\n",
      "23 27\n",
      "24 4\n",
      "27 0\n",
      "27 7\n",
      "27 11\n",
      "27 15\n",
      "27 19\n",
      "27 23\n",
      "27 27\n"
     ]
    },
    {
     "data": {
      "text/plain": [
       "2625.521385908127"
      ]
     },
     "execution_count": 9,
     "metadata": {},
     "output_type": "execute_result"
    }
   ],
   "source": [
    "t1 = time.time()\n",
    "soln = main()\n",
    "t2 = time.time()\n",
    "t2-t1"
   ]
  },
  {
   "cell_type": "code",
   "execution_count": 10,
   "metadata": {},
   "outputs": [
    {
     "data": {
      "text/plain": [
       "array([[0., 0., 0., 0., 0., 0., 0.],\n",
       "       [0., 1., 1., 1., 1., 1., 0.],\n",
       "       [0., 1., 1., 1., 1., 1., 0.],\n",
       "       [0., 1., 1., 1., 1., 1., 0.],\n",
       "       [0., 0., 0., 0., 0., 0., 0.]])"
      ]
     },
     "execution_count": 10,
     "metadata": {},
     "output_type": "execute_result"
    }
   ],
   "source": [
    "import numpy as np\n",
    "a = np.array([[ 1.,  1.,  1.,  1.,  1.],\n",
    "               [ 1.,  1.,  1.,  1.,  1.],\n",
    "               [ 1.,  1.,  1.,  1.,  1.]])\n",
    "np.pad(a, 1 , mode='constant')\n"
   ]
  },
  {
   "cell_type": "code",
   "execution_count": null,
   "metadata": {},
   "outputs": [],
   "source": [
    "soln = np.pad(soln, 1, mode='constant')"
   ]
  },
  {
   "cell_type": "raw",
   "metadata": {},
   "source": [
    "soln = soln.sum(axis=1).reshape((seating_rows,seating_columns))"
   ]
  },
  {
   "cell_type": "code",
   "execution_count": null,
   "metadata": {},
   "outputs": [],
   "source": [
    "fig, ax = plt.subplots(figsize=(20,15))\n",
    "sns.heatmap(soln, linecolor = 'white', linewidths = 0.1, annot = True, ax = ax, cbar =False)"
   ]
  },
  {
   "cell_type": "code",
   "execution_count": 19,
   "metadata": {},
   "outputs": [],
   "source": [
    "pd.DataFrame(soln).to_csv(\"seat_optimization_9grid25by525.csv\")"
   ]
  },
  {
   "cell_type": "code",
   "execution_count": null,
   "metadata": {},
   "outputs": [],
   "source": []
  }
 ],
 "metadata": {
  "kernelspec": {
   "display_name": "Python 3",
   "language": "python",
   "name": "python3"
  },
  "language_info": {
   "codemirror_mode": {
    "name": "ipython",
    "version": 3
   },
   "file_extension": ".py",
   "mimetype": "text/x-python",
   "name": "python",
   "nbconvert_exporter": "python",
   "pygments_lexer": "ipython3",
   "version": "3.7.4"
  }
 },
 "nbformat": 4,
 "nbformat_minor": 4
}
