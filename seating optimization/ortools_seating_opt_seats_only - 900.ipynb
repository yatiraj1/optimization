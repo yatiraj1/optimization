{
 "cells": [
  {
   "cell_type": "code",
   "execution_count": 1,
   "metadata": {},
   "outputs": [],
   "source": [
    "from ortools.linear_solver import pywraplp"
   ]
  },
  {
   "cell_type": "code",
   "execution_count": 2,
   "metadata": {},
   "outputs": [],
   "source": [
    "import pandas as pd\n",
    "import numpy as np\n",
    "import seaborn as sns\n",
    "from matplotlib import pyplot as plt\n",
    "from itertools import combinations\n",
    "import time"
   ]
  },
  {
   "cell_type": "code",
   "execution_count": 3,
   "metadata": {},
   "outputs": [],
   "source": [
    "number_tickets = 10\n",
    "seating_rows = 30\n",
    "seating_columns = 30\n",
    "number_seats = seating_rows * seating_columns\n",
    "seat_depth = 0.5\n",
    "seat_depth_gap = 0.2\n",
    "seat_width = 0.5\n",
    "seat_width_gap = 0.2"
   ]
  },
  {
   "cell_type": "code",
   "execution_count": 4,
   "metadata": {},
   "outputs": [],
   "source": [
    "x_seats = np.array( [ (i % seating_columns) * (seat_width + seat_width_gap) + (seat_width / 2) for i in range(number_seats) ] )"
   ]
  },
  {
   "cell_type": "code",
   "execution_count": 5,
   "metadata": {},
   "outputs": [],
   "source": [
    "y_seats = np.array( [ (i // seating_columns) * (seat_depth + seat_depth_gap) + (seat_depth / 2) for i in range(number_seats) ] )"
   ]
  },
  {
   "cell_type": "code",
   "execution_count": 6,
   "metadata": {},
   "outputs": [],
   "source": [
    "#ticket_size = np.random.randint(low =1, high = 10, size = number_tickets)\n",
    "ticket_size = np.ones(number_tickets)"
   ]
  },
  {
   "cell_type": "code",
   "execution_count": 7,
   "metadata": {},
   "outputs": [
    {
     "data": {
      "text/plain": [
       "array([1., 1., 1., 1., 1., 1., 1., 1., 1., 1.])"
      ]
     },
     "execution_count": 7,
     "metadata": {},
     "output_type": "execute_result"
    }
   ],
   "source": [
    "ticket_size"
   ]
  },
  {
   "cell_type": "raw",
   "metadata": {},
   "source": [
    "[(x_seats[i],y_seats[i]) for i in range(number_seats)]"
   ]
  },
  {
   "cell_type": "code",
   "execution_count": 8,
   "metadata": {},
   "outputs": [],
   "source": [
    "def main():\n",
    "    # Data\n",
    "    \n",
    "        \n",
    "    \n",
    "    # Solver\n",
    "    # Create the mip solver with the CBC backend.\n",
    "    solver = pywraplp.Solver.CreateSolver('assignment_mip', 'CBC')\n",
    "\n",
    "\n",
    "    # Variables\n",
    "    # x[i, j] is an array of 0-1 variables, which will be 1\n",
    "    # if worker i is assigned to task j.\n",
    "    x = {}\n",
    "    for i in range(number_seats):\n",
    "        x[i] = solver.IntVar(0, 1, '')\n",
    "\n",
    "    # Constraints\n",
    "    # Each ticekt is assigned to only one seat max\n",
    "    \n",
    "    #distance constraint\n",
    "    \n",
    "    for a, b in combinations(range(number_seats), 2):\n",
    "        if (x_seats[a] - x_seats[b])**2 + (y_seats[a] - y_seats[b])**2 < 4:\n",
    "            solver.Add(solver.Sum([ x[a] , x[b] ]) <= 1 )\n",
    "    \n",
    "    \n",
    "    # Objective\n",
    "    objective_terms = []\n",
    "    for i in range(number_seats):\n",
    "        objective_terms.append(x[i])\n",
    "    solver.Maximize(solver.Sum(objective_terms))\n",
    "\n",
    "    # Solve\n",
    "    status = solver.Solve()\n",
    "    \n",
    "    #sol_matrix\n",
    "    soln_matrix = np.zeros((seating_rows, seating_columns))\n",
    "    # Print solution.\n",
    "    if status == pywraplp.Solver.OPTIMAL or status == pywraplp.Solver.FEASIBLE:\n",
    "        print('Total cost = ', solver.Objective().Value(), '\\n')\n",
    "        for i in range(seating_rows):\n",
    "            for j in range(seating_columns):\n",
    "                # Test if x[i,j] is 1 (with tolerance for floating point arithmetic).\n",
    "                if x[i + j * seating_columns].solution_value() > 0.5:\n",
    "                    #print('Worker %d assigned to task %d.  Cost = %d' %\n",
    "                          #(i, j, costs[i][j]))\n",
    "                        print(i,j)\n",
    "                        soln_matrix[i,j] = 1# creating and returning the solution in grid / matrix form\n",
    "        return(soln_matrix)\n",
    "    else:\n",
    "        return status\n"
   ]
  },
  {
   "cell_type": "code",
   "execution_count": 9,
   "metadata": {},
   "outputs": [
    {
     "name": "stdout",
     "output_type": "stream",
     "text": [
      "Total cost =  100.0 \n",
      "\n",
      "0 0\n",
      "0 4\n",
      "0 7\n",
      "0 10\n",
      "0 14\n",
      "0 17\n",
      "0 20\n",
      "0 23\n",
      "0 26\n",
      "0 29\n",
      "3 0\n",
      "3 3\n",
      "3 6\n",
      "3 9\n",
      "3 12\n",
      "3 15\n",
      "3 18\n",
      "3 21\n",
      "3 24\n",
      "3 27\n",
      "6 0\n",
      "6 3\n",
      "6 6\n",
      "6 11\n",
      "6 14\n",
      "6 17\n",
      "6 20\n",
      "6 23\n",
      "6 26\n",
      "6 29\n",
      "9 0\n",
      "9 4\n",
      "9 7\n",
      "9 10\n",
      "9 13\n",
      "9 17\n",
      "9 20\n",
      "9 23\n",
      "9 26\n",
      "9 29\n",
      "12 0\n",
      "12 3\n",
      "12 6\n",
      "12 9\n",
      "12 12\n",
      "12 15\n",
      "12 18\n",
      "13 21\n",
      "14 24\n",
      "14 28\n",
      "15 2\n",
      "15 5\n",
      "15 11\n",
      "15 14\n",
      "15 17\n",
      "16 20\n",
      "17 8\n",
      "17 23\n",
      "17 26\n",
      "17 29\n",
      "18 0\n",
      "18 3\n",
      "18 11\n",
      "18 14\n",
      "19 17\n",
      "19 20\n",
      "20 7\n",
      "20 23\n",
      "20 26\n",
      "20 29\n",
      "21 1\n",
      "21 4\n",
      "21 10\n",
      "21 13\n",
      "22 17\n",
      "22 20\n",
      "23 7\n",
      "23 23\n",
      "23 26\n",
      "23 29\n",
      "24 0\n",
      "24 3\n",
      "24 10\n",
      "24 13\n",
      "25 16\n",
      "25 19\n",
      "26 7\n",
      "26 23\n",
      "26 26\n",
      "26 29\n",
      "27 1\n",
      "27 4\n",
      "27 13\n",
      "28 10\n",
      "28 16\n",
      "28 20\n",
      "29 7\n",
      "29 23\n",
      "29 26\n",
      "29 29\n"
     ]
    },
    {
     "data": {
      "text/plain": [
       "13.783867120742798"
      ]
     },
     "execution_count": 9,
     "metadata": {},
     "output_type": "execute_result"
    }
   ],
   "source": [
    "t1 = time.time()\n",
    "soln = main()\n",
    "t2 = time.time()\n",
    "t2-t1"
   ]
  },
  {
   "cell_type": "raw",
   "metadata": {},
   "source": [
    "soln = soln.sum(axis=1).reshape((seating_rows,seating_columns))"
   ]
  },
  {
   "cell_type": "code",
   "execution_count": 10,
   "metadata": {},
   "outputs": [
    {
     "data": {
      "text/plain": [
       "<matplotlib.axes._subplots.AxesSubplot at 0x15307051dc8>"
      ]
     },
     "execution_count": 10,
     "metadata": {},
     "output_type": "execute_result"
    },
    {
     "data": {
      "image/png": "[encoded data removed]",
      "text/plain": [
       "<Figure size 1440x1080 with 1 Axes>"
      ]
     },
     "metadata": {
      "needs_background": "light"
     },
     "output_type": "display_data"
    }
   ],
   "source": [
    "fig, ax = plt.subplots(figsize=(20,15))\n",
    "sns.heatmap(soln, linecolor = 'white', linewidths = 0.1, annot = True, ax = ax, cbar =False)"
   ]
  },
  {
   "cell_type": "code",
   "execution_count": 12,
   "metadata": {},
   "outputs": [],
   "source": [
    "pd.DataFrame(soln).to_csv(\"seating_optimization_for_900_seats.csv\")"
   ]
  }
 ],
 "metadata": {
  "kernelspec": {
   "display_name": "Python 3",
   "language": "python",
   "name": "python3"
  },
  "language_info": {
   "codemirror_mode": {
    "name": "ipython",
    "version": 3
   },
   "file_extension": ".py",
   "mimetype": "text/x-python",
   "name": "python",
   "nbconvert_exporter": "python",
   "pygments_lexer": "ipython3",
   "version": "3.7.4"
  }
 },
 "nbformat": 4,
 "nbformat_minor": 4
}
