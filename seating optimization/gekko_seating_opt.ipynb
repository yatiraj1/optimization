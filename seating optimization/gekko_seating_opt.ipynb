{
 "cells": [
  {
   "cell_type": "code",
   "execution_count": 1,
   "metadata": {},
   "outputs": [],
   "source": [
    "import pandas as pd\n",
    "import numpy as np\n",
    "import seaborn as sns\n",
    "from matplotlib import pyplot as plt\n",
    "from itertools import combinations"
   ]
  },
  {
   "cell_type": "code",
   "execution_count": 2,
   "metadata": {
    "colab": {
     "autoexec": {
      "startup": false,
      "wait_interval": 0
     }
    },
    "colab_type": "code",
    "id": "uKo6-R4-8jts"
   },
   "outputs": [],
   "source": [
    "from gekko import GEKKO\n",
    "import math"
   ]
  },
  {
   "cell_type": "code",
   "execution_count": 3,
   "metadata": {},
   "outputs": [],
   "source": [
    "number_tickets = 10\n",
    "seating_rows = 20\n",
    "seating_columns = 20\n",
    "number_seats = seating_rows * seating_columns\n",
    "seat_depth = 0.5\n",
    "seat_depth_gap = 0.2\n",
    "seat_width = 0.5\n",
    "seat_width_gap = 0.2"
   ]
  },
  {
   "cell_type": "code",
   "execution_count": 4,
   "metadata": {},
   "outputs": [],
   "source": [
    "x_seats = np.array( [ (i % seating_columns) * (seat_width + seat_width_gap) + (seat_width / 2) for i in range(number_seats) ] )"
   ]
  },
  {
   "cell_type": "code",
   "execution_count": 5,
   "metadata": {},
   "outputs": [],
   "source": [
    "y_seats = np.array( [ (i // seating_columns) * (seat_depth + seat_depth_gap) + (seat_depth / 2) for i in range(number_seats) ] )"
   ]
  },
  {
   "cell_type": "code",
   "execution_count": 6,
   "metadata": {},
   "outputs": [],
   "source": [
    "#ticket_size = np.random.randint(low =1, high = 10, size = number_tickets)\n",
    "ticket_size = np.ones(number_tickets)"
   ]
  },
  {
   "cell_type": "code",
   "execution_count": 7,
   "metadata": {},
   "outputs": [
    {
     "data": {
      "text/plain": [
       "array([1., 1., 1., 1., 1., 1., 1., 1., 1., 1.])"
      ]
     },
     "execution_count": 7,
     "metadata": {},
     "output_type": "execute_result"
    }
   ],
   "source": [
    "ticket_size"
   ]
  },
  {
   "cell_type": "raw",
   "metadata": {},
   "source": [
    "[(x_seats[i],y_seats[i]) for i in range(number_seats)]"
   ]
  },
  {
   "cell_type": "code",
   "execution_count": null,
   "metadata": {},
   "outputs": [
    {
     "name": "stdout",
     "output_type": "stream",
     "text": [
      "apm 106.67.110.54_gk_model0 <br><pre> ----------------------------------------------------------------\n",
      " APMonitor, Version 0.9.2\n",
      " APMonitor Optimization Suite\n",
      " ----------------------------------------------------------------\n",
      " \n"
     ]
    }
   ],
   "source": [
    "#Initialize Model\n",
    "m = GEKKO()\n",
    "\n",
    "#define parameter\n",
    "eq = m.Param(value=40)\n",
    "\n",
    "#initialize variables\n",
    "x = {}\n",
    "\n",
    "for i in range(number_tickets):\n",
    "    for j in range(number_seats):\n",
    "        x[i,j] = m.Var(lb=0, ub=1, integer=True)\n",
    "        #initial values\n",
    "        x[i,j].value = 0\n",
    "\n",
    "\n",
    "\n",
    "\n",
    "#Equations\n",
    "\n",
    "#each ticket is assigned to one seat\n",
    "for i in range(number_tickets):\n",
    "    m.Equation(m.sum([x[i,j] for j in range(number_seats)]) == 1)\n",
    "\n",
    "# each seat is assigned to one ticket\n",
    "for j in range(number_seats):\n",
    "    m.Equation(m.sum([x[i,j] for i in range(number_tickets)]) == 1) \n",
    "\n",
    "# all pairs of seats are at least separated by the minimum allowed dist\n",
    "for p, q in combinations(range(number_tickets), 2):\n",
    "    m.Equation(\n",
    "                (\n",
    "                   (m.sum([ x[p,i] * x_seats[i] for i in range(number_seats)]) \n",
    "                   - m.sum([ x[q,i] * x_seats[i] for i in range(number_seats)]) ) ** 2  # change to square or do fancy stuff\n",
    "                    \n",
    "                    +\n",
    "                    (m.sum([ x[p,i] * y_seats[i] for i in range(number_seats)]) \n",
    "                   - m.sum([ x[q,i] * y_seats[i] for i in range(number_seats)]) ) ** 2\n",
    "                    \n",
    "\n",
    "                ) >= 4\n",
    "            )\n",
    "\n",
    "\n",
    "\n",
    "\n",
    "\n",
    "\n",
    "#Objective\n",
    "all_seats_occupied = [m.sum([ticket_size[i] * x[i,j] for j in range(number_seats)]) for i in range(number_tickets)]\n",
    "\n",
    "m.Obj( m.sum(all_seats_occupied) * (-1) )\n",
    "\n",
    "#Set global options\n",
    "m.options.IMODE = 3 #steady state optimization\n",
    "\n",
    "#Solve simulation\n",
    "m.solve()\n",
    "\n",
    "#Results\n"
   ]
  },
  {
   "cell_type": "code",
   "execution_count": 9,
   "metadata": {},
   "outputs": [
    {
     "data": {
      "text/plain": [
       "array([ 0.25,  0.95,  1.65,  2.35,  3.05,  3.75,  4.45,  5.15,  5.85,\n",
       "        6.55,  7.25,  7.95,  8.65,  9.35, 10.05, 10.75, 11.45, 12.15,\n",
       "       12.85, 13.55,  0.25,  0.95,  1.65,  2.35,  3.05,  3.75,  4.45,\n",
       "        5.15,  5.85,  6.55,  7.25,  7.95,  8.65,  9.35, 10.05, 10.75,\n",
       "       11.45, 12.15, 12.85, 13.55,  0.25,  0.95,  1.65,  2.35,  3.05,\n",
       "        3.75,  4.45,  5.15,  5.85,  6.55,  7.25,  7.95,  8.65,  9.35,\n",
       "       10.05, 10.75, 11.45, 12.15, 12.85, 13.55,  0.25,  0.95,  1.65,\n",
       "        2.35,  3.05,  3.75,  4.45,  5.15,  5.85,  6.55,  7.25,  7.95,\n",
       "        8.65,  9.35, 10.05, 10.75, 11.45, 12.15, 12.85, 13.55,  0.25,\n",
       "        0.95,  1.65,  2.35,  3.05,  3.75,  4.45,  5.15,  5.85,  6.55,\n",
       "        7.25,  7.95,  8.65,  9.35, 10.05, 10.75, 11.45, 12.15, 12.85,\n",
       "       13.55,  0.25,  0.95,  1.65,  2.35,  3.05,  3.75,  4.45,  5.15,\n",
       "        5.85,  6.55,  7.25,  7.95,  8.65,  9.35, 10.05, 10.75, 11.45,\n",
       "       12.15, 12.85, 13.55,  0.25,  0.95,  1.65,  2.35,  3.05,  3.75,\n",
       "        4.45,  5.15,  5.85,  6.55,  7.25,  7.95,  8.65,  9.35, 10.05,\n",
       "       10.75, 11.45, 12.15, 12.85, 13.55,  0.25,  0.95,  1.65,  2.35,\n",
       "        3.05,  3.75,  4.45,  5.15,  5.85,  6.55,  7.25,  7.95,  8.65,\n",
       "        9.35, 10.05, 10.75, 11.45, 12.15, 12.85, 13.55,  0.25,  0.95,\n",
       "        1.65,  2.35,  3.05,  3.75,  4.45,  5.15,  5.85,  6.55,  7.25,\n",
       "        7.95,  8.65,  9.35, 10.05, 10.75, 11.45, 12.15, 12.85, 13.55,\n",
       "        0.25,  0.95,  1.65,  2.35,  3.05,  3.75,  4.45,  5.15,  5.85,\n",
       "        6.55,  7.25,  7.95,  8.65,  9.35, 10.05, 10.75, 11.45, 12.15,\n",
       "       12.85, 13.55,  0.25,  0.95,  1.65,  2.35,  3.05,  3.75,  4.45,\n",
       "        5.15,  5.85,  6.55,  7.25,  7.95,  8.65,  9.35, 10.05, 10.75,\n",
       "       11.45, 12.15, 12.85, 13.55,  0.25,  0.95,  1.65,  2.35,  3.05,\n",
       "        3.75,  4.45,  5.15,  5.85,  6.55,  7.25,  7.95,  8.65,  9.35,\n",
       "       10.05, 10.75, 11.45, 12.15, 12.85, 13.55,  0.25,  0.95,  1.65,\n",
       "        2.35,  3.05,  3.75,  4.45,  5.15,  5.85,  6.55,  7.25,  7.95,\n",
       "        8.65,  9.35, 10.05, 10.75, 11.45, 12.15, 12.85, 13.55,  0.25,\n",
       "        0.95,  1.65,  2.35,  3.05,  3.75,  4.45,  5.15,  5.85,  6.55,\n",
       "        7.25,  7.95,  8.65,  9.35, 10.05, 10.75, 11.45, 12.15, 12.85,\n",
       "       13.55,  0.25,  0.95,  1.65,  2.35,  3.05,  3.75,  4.45,  5.15,\n",
       "        5.85,  6.55,  7.25,  7.95,  8.65,  9.35, 10.05, 10.75, 11.45,\n",
       "       12.15, 12.85, 13.55,  0.25,  0.95,  1.65,  2.35,  3.05,  3.75,\n",
       "        4.45,  5.15,  5.85,  6.55,  7.25,  7.95,  8.65,  9.35, 10.05,\n",
       "       10.75, 11.45, 12.15, 12.85, 13.55,  0.25,  0.95,  1.65,  2.35,\n",
       "        3.05,  3.75,  4.45,  5.15,  5.85,  6.55,  7.25,  7.95,  8.65,\n",
       "        9.35, 10.05, 10.75, 11.45, 12.15, 12.85, 13.55,  0.25,  0.95,\n",
       "        1.65,  2.35,  3.05,  3.75,  4.45,  5.15,  5.85,  6.55,  7.25,\n",
       "        7.95,  8.65,  9.35, 10.05, 10.75, 11.45, 12.15, 12.85, 13.55,\n",
       "        0.25,  0.95,  1.65,  2.35,  3.05,  3.75,  4.45,  5.15,  5.85,\n",
       "        6.55,  7.25,  7.95,  8.65,  9.35, 10.05, 10.75, 11.45, 12.15,\n",
       "       12.85, 13.55,  0.25,  0.95,  1.65,  2.35,  3.05,  3.75,  4.45,\n",
       "        5.15,  5.85,  6.55,  7.25,  7.95,  8.65,  9.35, 10.05, 10.75,\n",
       "       11.45, 12.15, 12.85, 13.55])"
      ]
     },
     "execution_count": 9,
     "metadata": {},
     "output_type": "execute_result"
    }
   ],
   "source": []
  },
  {
   "cell_type": "code",
   "execution_count": null,
   "metadata": {},
   "outputs": [],
   "source": []
  }
 ],
 "metadata": {
  "kernelspec": {
   "display_name": "Python 3",
   "language": "python",
   "name": "python3"
  },
  "language_info": {
   "codemirror_mode": {
    "name": "ipython",
    "version": 3
   },
   "file_extension": ".py",
   "mimetype": "text/x-python",
   "name": "python",
   "nbconvert_exporter": "python",
   "pygments_lexer": "ipython3",
   "version": "3.7.4"
  }
 },
 "nbformat": 4,
 "nbformat_minor": 4
}
