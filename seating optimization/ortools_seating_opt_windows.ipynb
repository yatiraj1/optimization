{
 "cells": [
  {
   "cell_type": "code",
   "execution_count": 65,
   "metadata": {},
   "outputs": [],
   "source": [
    "from ortools.linear_solver import pywraplp"
   ]
  },
  {
   "cell_type": "code",
   "execution_count": 66,
   "metadata": {},
   "outputs": [],
   "source": [
    "import pandas as pd\n",
    "import numpy as np\n",
    "import seaborn as sns\n",
    "from matplotlib import pyplot as plt\n",
    "from itertools import combinations\n",
    "import time"
   ]
  },
  {
   "cell_type": "code",
   "execution_count": 128,
   "metadata": {},
   "outputs": [],
   "source": [
    "number_tickets = 65\n",
    "seating_rows = 22\n",
    "seating_columns = 21\n",
    "number_seats = seating_rows * seating_columns\n",
    "seat_depth = 0.5\n",
    "seat_depth_gap = 0.2\n",
    "seat_width = 0.5\n",
    "seat_width_gap = 0.2"
   ]
  },
  {
   "cell_type": "code",
   "execution_count": 129,
   "metadata": {},
   "outputs": [],
   "source": [
    "x_seats = np.array( [ (i % seating_columns) * (seat_width + seat_width_gap) + (seat_width / 2) for i in range(number_seats) ] )"
   ]
  },
  {
   "cell_type": "code",
   "execution_count": 130,
   "metadata": {},
   "outputs": [],
   "source": [
    "y_seats = np.array( [ (i // seating_columns) * (seat_depth + seat_depth_gap) + (seat_depth / 2) for i in range(number_seats) ] )"
   ]
  },
  {
   "cell_type": "code",
   "execution_count": 131,
   "metadata": {},
   "outputs": [],
   "source": [
    "#ticket_size = np.random.randint(low =1, high = 10, size = number_tickets)\n",
    "ticket_size = np.ones(number_tickets)"
   ]
  },
  {
   "cell_type": "code",
   "execution_count": 132,
   "metadata": {},
   "outputs": [
    {
     "data": {
      "text/plain": [
       "array([1., 1., 1., 1., 1., 1., 1., 1., 1., 1., 1., 1., 1., 1., 1., 1., 1.,\n",
       "       1., 1., 1., 1., 1., 1., 1., 1., 1., 1., 1., 1., 1., 1., 1., 1., 1.,\n",
       "       1., 1., 1., 1., 1., 1., 1., 1., 1., 1., 1., 1., 1., 1., 1., 1., 1.,\n",
       "       1., 1., 1., 1., 1., 1., 1., 1., 1., 1., 1., 1., 1., 1.])"
      ]
     },
     "execution_count": 132,
     "metadata": {},
     "output_type": "execute_result"
    }
   ],
   "source": [
    "ticket_size"
   ]
  },
  {
   "cell_type": "raw",
   "metadata": {},
   "source": [
    "[(x_seats[i],y_seats[i]) for i in range(number_seats)]"
   ]
  },
  {
   "cell_type": "code",
   "execution_count": 133,
   "metadata": {},
   "outputs": [],
   "source": [
    "def main():\n",
    "    # Data\n",
    "    \n",
    "        \n",
    "    \n",
    "    # Solver\n",
    "    # Create the mip solver with the CBC backend.\n",
    "    solver = pywraplp.Solver.CreateSolver('assignment_mip', 'CBC')\n",
    "\n",
    "\n",
    "    # Variables\n",
    "    # x[i, j] is an array of 0-1 variables, which will be 1\n",
    "    # if worker i is assigned to task j.\n",
    "    x = {}\n",
    "    for i in range(number_seats):\n",
    "        for j in range(number_tickets):\n",
    "            x[i, j] = solver.IntVar(0, 1, '')\n",
    "\n",
    "    # Constraints\n",
    "    # Each ticekt is assigned to only one seat max\n",
    "    for i in range(number_seats):\n",
    "        solver.Add(solver.Sum([x[i, j] for j in range(number_tickets)]) <= 1)\n",
    "    \n",
    "    for j in range(number_tickets):\n",
    "        solver.Add(solver.Sum([x[i, j] for i in range(number_seats)]) <= 1)\n",
    "        \n",
    "    # seating distance maintained\n",
    "    \"\"\"\n",
    "    for m, n in combinations(range(number_tickets), 2):\n",
    "        solver.Add(\n",
    "                    (\n",
    "                       ((solver.Sum([ x[i,m] * x_seats[i] for i in range(number_seats)]) \n",
    "                       - solver.Sum([ x[i,n] * x_seats[i] for i in range(number_seats)]) ) *  # change to square or do fancy stuff\n",
    "                        (solver.Sum([ x[i,m] * x_seats[i] for i in range(number_seats)]) \n",
    "                       - solver.Sum([ x[i,n] * x_seats[i] for i in range(number_seats)]) ))\n",
    "                        +\n",
    "                        ((solver.Sum([ x[i,m] * y_seats[i] for i in range(number_seats)]) \n",
    "                       - solver.Sum([ x[i,n] * y_seats[i] for i in range(number_seats)]) ) * \n",
    "                        (solver.Sum([ x[i,m] * y_seats[i] for i in range(number_seats)]) \n",
    "                       - solver.Sum([ x[i,n] * y_seats[i] for i in range(number_seats)]) ))\n",
    "                        \n",
    "                    ) >= 4\n",
    "                )\n",
    "    \"\"\"\n",
    "    \"\"\"\n",
    "    for i in range(number_seats - 3):\n",
    "        for j in range(number_tickets - 3):\n",
    "            #solver.Add(solver.Sum([ x[p,q] for p in range(i, i+3) for q in range(j, j+3)]) <= 1)\n",
    "            solver.Add(solver.Sum([ x[p+q*seating_rows,j] for p in range(i, i+3) for q in range(0, 3)]) <= 1)\n",
    "    \"\"\"\n",
    "    \n",
    "    for a in range(seating_rows - 2):\n",
    "        for b in range(seating_columns - 2):\n",
    "            first_seat_num = a*seating_columns + b\n",
    "            seat_nums = [first_seat_num + y + z*seating_columns for y in range(0,3) for z in range(0,3)]\n",
    "            solver.Add(solver.Sum([x[p,q] for p in seat_nums for q in range(number_tickets)])<=1)\n",
    "\n",
    "    # Objective\n",
    "    objective_terms = []\n",
    "    for i in range(number_seats):\n",
    "        for j in range(number_tickets):\n",
    "            objective_terms.append(ticket_size[j] * x[i, j])\n",
    "    solver.Maximize(solver.Sum(objective_terms))\n",
    "\n",
    "    # Solve\n",
    "    status = solver.Solve()\n",
    "    \n",
    "    #sol_matrix\n",
    "    soln_matrix = np.zeros((number_seats, number_tickets))\n",
    "    # Print solution.\n",
    "    if status == pywraplp.Solver.OPTIMAL or status == pywraplp.Solver.FEASIBLE:\n",
    "        print('Total cost = ', solver.Objective().Value(), '\\n')\n",
    "        for i in range(number_seats):\n",
    "            for j in range(number_tickets):\n",
    "                # Test if x[i,j] is 1 (with tolerance for floating point arithmetic).\n",
    "                if x[i, j].solution_value() > 0.5:\n",
    "                    #print('Worker %d assigned to task %d.  Cost = %d' %\n",
    "                          #(i, j, costs[i][j]))\n",
    "                        print(i,j)\n",
    "                        soln_matrix[i,j] = 1# creating and returning the solution in grid / matrix form\n",
    "        return(soln_matrix)\n",
    "    else:\n",
    "        return status\n"
   ]
  },
  {
   "cell_type": "code",
   "execution_count": 134,
   "metadata": {},
   "outputs": [
    {
     "name": "stdout",
     "output_type": "stream",
     "text": [
      "Total cost =  56.0 \n",
      "\n",
      "0 26\n",
      "3 18\n",
      "6 15\n",
      "9 44\n",
      "12 40\n",
      "15 60\n",
      "19 61\n",
      "63 14\n",
      "66 49\n",
      "71 10\n",
      "74 21\n",
      "77 5\n",
      "80 2\n",
      "83 35\n",
      "126 46\n",
      "129 42\n",
      "132 31\n",
      "135 27\n",
      "138 37\n",
      "141 56\n",
      "145 52\n",
      "189 29\n",
      "192 19\n",
      "195 39\n",
      "198 59\n",
      "201 50\n",
      "204 3\n",
      "209 30\n",
      "252 45\n",
      "255 34\n",
      "259 32\n",
      "263 8\n",
      "266 0\n",
      "269 48\n",
      "272 38\n",
      "315 13\n",
      "318 64\n",
      "322 4\n",
      "325 17\n",
      "328 63\n",
      "332 51\n",
      "335 41\n",
      "378 7\n",
      "381 53\n",
      "384 57\n",
      "387 58\n",
      "390 20\n",
      "394 11\n",
      "397 55\n",
      "441 25\n",
      "444 22\n",
      "447 33\n",
      "450 24\n",
      "453 62\n",
      "456 1\n",
      "460 43\n"
     ]
    },
    {
     "data": {
      "text/plain": [
       "3.755939483642578"
      ]
     },
     "execution_count": 134,
     "metadata": {},
     "output_type": "execute_result"
    }
   ],
   "source": [
    "t1 = time.time()\n",
    "soln = main()\n",
    "t2 = time.time()\n",
    "t2-t1"
   ]
  },
  {
   "cell_type": "code",
   "execution_count": 135,
   "metadata": {},
   "outputs": [],
   "source": [
    "soln = soln.sum(axis=1).reshape((seating_rows,seating_columns))"
   ]
  },
  {
   "cell_type": "code",
   "execution_count": 136,
   "metadata": {},
   "outputs": [
    {
     "data": {
      "text/plain": [
       "<matplotlib.axes._subplots.AxesSubplot at 0x28bd5025a48>"
      ]
     },
     "execution_count": 136,
     "metadata": {},
     "output_type": "execute_result"
    },
    {
     "data": {
      "image/png": "[encoded data removed]",
      "text/plain": [
       "<Figure size 1440x1080 with 1 Axes>"
      ]
     },
     "metadata": {
      "needs_background": "light"
     },
     "output_type": "display_data"
    }
   ],
   "source": [
    "fig, ax = plt.subplots(figsize=(20,15))\n",
    "sns.heatmap(soln, linecolor = 'white', linewidths = 0.1, annot = True, ax = ax, cbar =False)"
   ]
  },
  {
   "cell_type": "code",
   "execution_count": 44,
   "metadata": {},
   "outputs": [
    {
     "data": {
      "text/plain": [
       "50.0"
      ]
     },
     "execution_count": 44,
     "metadata": {},
     "output_type": "execute_result"
    }
   ],
   "source": [
    "soln.sum()"
   ]
  },
  {
   "cell_type": "code",
   "execution_count": null,
   "metadata": {},
   "outputs": [],
   "source": []
  }
 ],
 "metadata": {
  "kernelspec": {
   "display_name": "Python 3",
   "language": "python",
   "name": "python3"
  },
  "language_info": {
   "codemirror_mode": {
    "name": "ipython",
    "version": 3
   },
   "file_extension": ".py",
   "mimetype": "text/x-python",
   "name": "python",
   "nbconvert_exporter": "python",
   "pygments_lexer": "ipython3",
   "version": "3.7.4"
  }
 },
 "nbformat": 4,
 "nbformat_minor": 4
}
