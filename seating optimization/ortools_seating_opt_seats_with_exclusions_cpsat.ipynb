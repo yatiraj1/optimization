{
 "cells": [
  {
   "cell_type": "code",
   "execution_count": 57,
   "metadata": {},
   "outputs": [],
   "source": [
    "from ortools.sat.python import cp_model"
   ]
  },
  {
   "cell_type": "code",
   "execution_count": 58,
   "metadata": {},
   "outputs": [],
   "source": [
    "import pandas as pd\n",
    "import numpy as np\n",
    "import seaborn as sns\n",
    "from matplotlib import pyplot as plt\n",
    "from itertools import combinations, permutations\n",
    "import time"
   ]
  },
  {
   "cell_type": "code",
   "execution_count": 59,
   "metadata": {},
   "outputs": [],
   "source": [
    "number_tickets = 10\n",
    "seating_rows = 20\n",
    "seating_columns = 20\n",
    "number_seats = seating_rows * seating_columns\n",
    "seat_depth = 0.5\n",
    "seat_depth_gap = 0.2\n",
    "seat_width = 0.5\n",
    "seat_width_gap = 0.2\n",
    "max_group_size = 6"
   ]
  },
  {
   "cell_type": "code",
   "execution_count": 116,
   "metadata": {},
   "outputs": [],
   "source": [
    "group_size_limits = {\n",
    "    8 : 2,\n",
    "    7 : 2,\n",
    "    6 : 2,\n",
    "    5 : 0,\n",
    "    4 : 5,\n",
    "    3 : 8,\n",
    "    2 : 8,\n",
    "}"
   ]
  },
  {
   "cell_type": "code",
   "execution_count": 117,
   "metadata": {},
   "outputs": [],
   "source": [
    "excluded_groups = set([ key if value == 0 else 0 for key, value in group_size_limits.items() ])\n",
    "excluded_groups.remove(0)\n",
    "included_groups = set([ value if value not in excluded_groups else 0 for value in range(1, max_group_size + 1)])\n",
    "included_groups.remove(0)"
   ]
  },
  {
   "cell_type": "code",
   "execution_count": 118,
   "metadata": {},
   "outputs": [
    {
     "name": "stdout",
     "output_type": "stream",
     "text": [
      "{5}\n"
     ]
    }
   ],
   "source": [
    "print(excluded_groups)"
   ]
  },
  {
   "cell_type": "code",
   "execution_count": 119,
   "metadata": {},
   "outputs": [],
   "source": [
    "x_seats = np.array( [ (i % seating_columns) * (seat_width + seat_width_gap) + (seat_width / 2) for i in range(number_seats) ] )"
   ]
  },
  {
   "cell_type": "code",
   "execution_count": 120,
   "metadata": {},
   "outputs": [],
   "source": [
    "y_seats = np.array( [ (i // seating_columns) * (seat_depth + seat_depth_gap) + (seat_depth / 2) for i in range(number_seats) ] )"
   ]
  },
  {
   "cell_type": "code",
   "execution_count": 121,
   "metadata": {},
   "outputs": [],
   "source": [
    "#ticket_size = np.random.randint(low =1, high = 10, size = number_tickets)\n",
    "ticket_size = np.ones(number_tickets)"
   ]
  },
  {
   "cell_type": "code",
   "execution_count": 122,
   "metadata": {},
   "outputs": [
    {
     "data": {
      "text/plain": [
       "array([1., 1., 1., 1., 1., 1., 1., 1., 1., 1.])"
      ]
     },
     "execution_count": 122,
     "metadata": {},
     "output_type": "execute_result"
    }
   ],
   "source": [
    "ticket_size"
   ]
  },
  {
   "cell_type": "code",
   "execution_count": 123,
   "metadata": {},
   "outputs": [],
   "source": [
    "model = cp_model.CpModel()\n",
    "model.StringParameters = \"num_search_workers:8\""
   ]
  },
  {
   "cell_type": "code",
   "execution_count": 124,
   "metadata": {},
   "outputs": [],
   "source": [
    "x = {}"
   ]
  },
  {
   "cell_type": "code",
   "execution_count": 125,
   "metadata": {},
   "outputs": [],
   "source": [
    "def create_pairs(included_groups):\n",
    "    return combinations(included_groups, 2)"
   ]
  },
  {
   "cell_type": "code",
   "execution_count": 126,
   "metadata": {},
   "outputs": [],
   "source": [
    "def is_seat_group_size_excluded(i, j):\n",
    "    if i in excluded_groups:\n",
    "        return True\n",
    "    else:\n",
    "        return False"
   ]
  },
  {
   "cell_type": "code",
   "execution_count": 127,
   "metadata": {},
   "outputs": [],
   "source": [
    "def is_seat_excluded(i, j):\n",
    "    return is_seat_group_size_excluded(i, j)        "
   ]
  },
  {
   "cell_type": "code",
   "execution_count": 128,
   "metadata": {},
   "outputs": [],
   "source": [
    "def create_variables(max_group_size):\n",
    "    for i in included_groups:\n",
    "        for j in range(number_seats):\n",
    "            x[(i, j)] = model.NewBoolVar('x[%i,%i]' % (i, j))"
   ]
  },
  {
   "cell_type": "code",
   "execution_count": 129,
   "metadata": {},
   "outputs": [],
   "source": [
    "c=0\n",
    "def get_min_distance(a, b, group1, group2):\n",
    "    c=0\n",
    "    distances = []\n",
    "    distances.append((x_seats[a] - x_seats[b])**2 + (y_seats[a] - y_seats[b])**2)\n",
    "    for i in range(group1):\n",
    "        for j in range(group2):\n",
    "            try:\n",
    "                distances.append((x_seats[a+i] - x_seats[b+j])**2 + (y_seats[a+i] - y_seats[b+j])**2)\n",
    "            except:\n",
    "                c += 1\n",
    "                #print(a,b)\n",
    "    return min(distances)"
   ]
  },
  {
   "cell_type": "raw",
   "metadata": {},
   "source": [
    "create_same_group_constraints(max_group_size):\n",
    "    for a, b in permutations(range(number_seats), 2):\n",
    "        if get_min_distance(a, b, one, two) < 4:\n",
    "            solver.Add(solver.Sum([ x[(one, a)] , x[(two, b)] ]) <= 1)\n"
   ]
  },
  {
   "cell_type": "code",
   "execution_count": 130,
   "metadata": {},
   "outputs": [],
   "source": [
    "def create_group_size_constraints(max_group_size):\n",
    "    for gp in included_groups:\n",
    "        try:\n",
    "            model.Add(sum( [ x[gp, j] for j in range(number_seats) ] ) <= group_size_limits[gp] )\n",
    "        except:\n",
    "            print(\"no limit for group size \", gp)"
   ]
  },
  {
   "cell_type": "code",
   "execution_count": 131,
   "metadata": {},
   "outputs": [],
   "source": [
    "def create_pair_constraints(one, two):\n",
    "    for a, b in permutations(range(number_seats), 2):\n",
    "        if get_min_distance(a, b, one, two) < 4:\n",
    "            model.Add(sum([ x[(one, a)] , x[(two, b)] ]) <= 1)\n",
    "    "
   ]
  },
  {
   "cell_type": "code",
   "execution_count": 132,
   "metadata": {},
   "outputs": [],
   "source": [
    "def create_individual_constraints(max_group_size):\n",
    "    for i in included_groups:\n",
    "        for j in range(number_seats):\n",
    "            if j % seating_columns >= seating_columns - i + 1:\n",
    "                model.Add(x[(i, j)] == 0)"
   ]
  },
  {
   "cell_type": "code",
   "execution_count": 133,
   "metadata": {},
   "outputs": [],
   "source": [
    "def create_exclusivity_constraints(max_group_size):\n",
    "    for j in range(number_seats):\n",
    "        terms = [ x[(i, j)] for i in included_groups ]\n",
    "        model.Add(sum(terms) <= 1)"
   ]
  },
  {
   "cell_type": "code",
   "execution_count": 134,
   "metadata": {},
   "outputs": [],
   "source": [
    "def create_all_constraints(max_group_size):\n",
    "    group_pairs = create_pairs(included_groups)\n",
    "    for pair in group_pairs:\n",
    "        create_pair_constraints(pair[0], pair[1])\n",
    "    \n",
    "    group_self_pairs = [(d, d) for d in included_groups]\n",
    "    for pair in group_self_pairs:\n",
    "        create_pair_constraints(pair[0], pair[1])\n",
    "        \n",
    "    create_individual_constraints(max_group_size)\n",
    "    \n",
    "    create_exclusivity_constraints(max_group_size)\n",
    "    \n",
    "    create_group_size_constraints(max_group_size)\n",
    "    "
   ]
  },
  {
   "cell_type": "code",
   "execution_count": 135,
   "metadata": {},
   "outputs": [],
   "source": [
    "def main():\n",
    "    # Data\n",
    "    \n",
    "        \n",
    "    \n",
    "    # Solver\n",
    "    # Create the mip solver with the CBC backend.\n",
    "    #solver = pywraplp.Solver.CreateSolver('assignment_mip', 'CBC')\n",
    "\n",
    "\n",
    "    # Variables\n",
    "    \n",
    "    \n",
    "    create_variables(max_group_size)\n",
    "    \n",
    "    # Constraints\n",
    "    create_all_constraints(max_group_size)\n",
    "    \n",
    "    # Objective\n",
    "    objective_terms = []\n",
    "    for j in range(number_seats):\n",
    "        for i in included_groups:\n",
    "            objective_terms.append( i * x[(i, j)] )\n",
    "    \n",
    "    model.Maximize(sum(objective_terms))\n",
    "    \n",
    "    # Solve\n",
    "    solver = cp_model.CpSolver()\n",
    "    solver.parameters.num_search_workers = 8\n",
    "    status = solver.Solve(model)\n",
    "    \n",
    "    print(\"status is \",status)\n",
    "    c = 0\n",
    "    #sol_matrix\n",
    "    sol_matrices = []\n",
    "    sol_matrices_fmt = []\n",
    "    for i in range(max_group_size):\n",
    "        sol_matrices.append(np.zeros((seating_rows, seating_columns)))\n",
    "        sol_matrices_fmt.append(np.zeros((seating_rows, seating_columns)))\n",
    "    # Print solution.\n",
    "    if status == cp_model.OPTIMAL or status == cp_model.FEASIBLE:\n",
    "        print('Total cost = ', solver.ObjectiveValue(), '\\n')\n",
    "        for k in range(len(sol_matrices)):\n",
    "            for i in range(seating_columns):\n",
    "                for j in range(seating_rows):\n",
    "                    # Test if x[i,j] is 1 (with tolerance for floating point arithmetic).\n",
    "                    try:\n",
    "                        if solver.BooleanValue(x[(k+1, i + j * seating_columns)]):\n",
    "                            #print('Worker %d assigned to task %d.  Cost = %d' %\n",
    "                                  #(i, j, costs[i][j]))\n",
    "\n",
    "                                sol_matrices[k][j,i] = 1 * (k+1)\n",
    "                                for m in range(0,k+1):\n",
    "                                    sol_matrices_fmt[k][j , i + m] = 1 * (k+1)\n",
    "                    except:\n",
    "                        c += 1\n",
    "                    \n",
    "        return(sol_matrices, sol_matrices_fmt)\n",
    "    else:\n",
    "        return status\n"
   ]
  },
  {
   "cell_type": "code",
   "execution_count": 136,
   "metadata": {},
   "outputs": [
    {
     "name": "stdout",
     "output_type": "stream",
     "text": [
      "no limit for group size  1\n",
      "status is  4\n",
      "Total cost =  84.0 \n",
      "\n"
     ]
    },
    {
     "data": {
      "text/plain": [
       "62.32927322387695"
      ]
     },
     "execution_count": 136,
     "metadata": {},
     "output_type": "execute_result"
    }
   ],
   "source": [
    "t1 = time.time()\n",
    "soln = main()\n",
    "t2 = time.time()\n",
    "t2-t1"
   ]
  },
  {
   "cell_type": "raw",
   "metadata": {},
   "source": [
    "318s without parallelization\n",
    "304s with model parallelized with StringParameters\n",
    "327s with solver parallelized with SatParameters\n"
   ]
  },
  {
   "cell_type": "code",
   "execution_count": 137,
   "metadata": {},
   "outputs": [
    {
     "data": {
      "text/plain": [
       "array([[1., 0., 0., 3., 0., 0., 0., 0., 1., 0., 0., 1., 0., 0., 0., 0.,\n",
       "        0., 0., 0., 0.],\n",
       "       [0., 0., 0., 0., 0., 0., 0., 0., 0., 0., 0., 0., 0., 0., 2., 0.,\n",
       "        0., 0., 2., 0.],\n",
       "       [0., 0., 0., 0., 0., 0., 0., 0., 0., 0., 0., 0., 0., 0., 0., 0.,\n",
       "        0., 0., 0., 0.],\n",
       "       [1., 0., 0., 0., 0., 0., 0., 2., 0., 0., 0., 1., 0., 0., 0., 0.,\n",
       "        0., 0., 0., 0.],\n",
       "       [0., 0., 0., 2., 0., 0., 0., 0., 0., 0., 0., 0., 0., 0., 6., 0.,\n",
       "        0., 0., 0., 0.],\n",
       "       [0., 0., 0., 0., 0., 0., 0., 0., 0., 0., 0., 0., 0., 0., 0., 0.,\n",
       "        0., 0., 0., 0.],\n",
       "       [0., 0., 0., 0., 0., 0., 0., 0., 0., 0., 0., 0., 0., 0., 0., 0.,\n",
       "        0., 0., 0., 0.],\n",
       "       [1., 0., 0., 3., 0., 0., 0., 0., 2., 0., 0., 0., 2., 0., 0., 0.,\n",
       "        1., 0., 0., 1.],\n",
       "       [0., 0., 0., 0., 0., 0., 0., 0., 0., 0., 0., 0., 0., 0., 0., 0.,\n",
       "        0., 0., 0., 0.],\n",
       "       [0., 0., 0., 0., 0., 0., 0., 0., 0., 0., 0., 0., 0., 0., 0., 0.,\n",
       "        0., 0., 0., 0.],\n",
       "       [4., 0., 0., 0., 0., 0., 1., 0., 0., 1., 0., 0., 3., 0., 0., 0.,\n",
       "        0., 3., 0., 0.],\n",
       "       [0., 0., 0., 0., 0., 0., 0., 0., 0., 0., 0., 0., 0., 0., 0., 0.,\n",
       "        0., 0., 0., 0.],\n",
       "       [0., 0., 0., 0., 0., 0., 0., 0., 0., 0., 0., 0., 0., 0., 0., 0.,\n",
       "        0., 0., 0., 0.],\n",
       "       [1., 0., 0., 3., 0., 0., 0., 0., 4., 0., 0., 0., 0., 0., 6., 0.,\n",
       "        0., 0., 0., 0.],\n",
       "       [0., 0., 0., 0., 0., 0., 0., 0., 0., 0., 0., 0., 0., 0., 0., 0.,\n",
       "        0., 0., 0., 0.],\n",
       "       [0., 0., 0., 0., 0., 0., 0., 0., 0., 0., 0., 0., 0., 0., 0., 0.,\n",
       "        0., 0., 0., 0.],\n",
       "       [3., 0., 0., 0., 0., 2., 0., 0., 0., 1., 0., 0., 2., 0., 0., 0.,\n",
       "        4., 0., 0., 0.],\n",
       "       [0., 0., 0., 0., 0., 0., 0., 0., 0., 0., 0., 0., 0., 0., 0., 0.,\n",
       "        0., 0., 0., 0.],\n",
       "       [0., 0., 0., 0., 0., 0., 0., 0., 0., 0., 0., 0., 0., 0., 0., 0.,\n",
       "        0., 0., 0., 0.],\n",
       "       [4., 0., 0., 0., 0., 0., 3., 0., 0., 0., 0., 4., 0., 0., 0., 0.,\n",
       "        0., 3., 0., 0.]])"
      ]
     },
     "execution_count": 137,
     "metadata": {},
     "output_type": "execute_result"
    }
   ],
   "source": [
    "sum(soln[0])"
   ]
  },
  {
   "cell_type": "raw",
   "metadata": {},
   "source": [
    "sum(soln)"
   ]
  },
  {
   "cell_type": "code",
   "execution_count": 138,
   "metadata": {},
   "outputs": [
    {
     "data": {
      "text/plain": [
       "<matplotlib.axes._subplots.AxesSubplot at 0x20a2dc78488>"
      ]
     },
     "execution_count": 138,
     "metadata": {},
     "output_type": "execute_result"
    },
    {
     "data": {
      "image/png": "[encoded data removed]",
      "text/plain": [
       "<Figure size 1440x1080 with 1 Axes>"
      ]
     },
     "metadata": {
      "needs_background": "light"
     },
     "output_type": "display_data"
    }
   ],
   "source": [
    "fig, ax = plt.subplots(figsize=(20,15))\n",
    "sns.heatmap(sum(soln[0]), linecolor = 'white', linewidths = 0.1, annot = True, ax = ax, cbar =False)"
   ]
  },
  {
   "cell_type": "code",
   "execution_count": 139,
   "metadata": {},
   "outputs": [
    {
     "data": {
      "text/plain": [
       "<matplotlib.axes._subplots.AxesSubplot at 0x20a3476df48>"
      ]
     },
     "execution_count": 139,
     "metadata": {},
     "output_type": "execute_result"
    },
    {
     "data": {
      "image/png": "[encoded data removed]",
      "text/plain": [
       "<Figure size 1440x1080 with 1 Axes>"
      ]
     },
     "metadata": {
      "needs_background": "light"
     },
     "output_type": "display_data"
    }
   ],
   "source": [
    "fig, ax = plt.subplots(figsize=(20,15))\n",
    "sns.heatmap(sum(soln[1]), linecolor = 'white', linewidths = 0.1, annot = True, ax = ax, cbar =False)"
   ]
  },
  {
   "cell_type": "code",
   "execution_count": null,
   "metadata": {},
   "outputs": [],
   "source": []
  },
  {
   "cell_type": "code",
   "execution_count": null,
   "metadata": {},
   "outputs": [],
   "source": []
  },
  {
   "cell_type": "raw",
   "metadata": {},
   "source": [
    "[(x_seats[i],y_seats[i]) for i in range(number_seats)]"
   ]
  },
  {
   "cell_type": "raw",
   "metadata": {},
   "source": [
    "pd.DataFrame(sum(soln[1])).to_csv(\"seating_optimization_for_400_seats_groups_demo.csv\")"
   ]
  },
  {
   "cell_type": "code",
   "execution_count": null,
   "metadata": {},
   "outputs": [],
   "source": []
  },
  {
   "cell_type": "code",
   "execution_count": null,
   "metadata": {},
   "outputs": [],
   "source": []
  },
  {
   "cell_type": "code",
   "execution_count": null,
   "metadata": {},
   "outputs": [],
   "source": []
  }
 ],
 "metadata": {
  "kernelspec": {
   "display_name": "Python 3",
   "language": "python",
   "name": "python3"
  },
  "language_info": {
   "codemirror_mode": {
    "name": "ipython",
    "version": 3
   },
   "file_extension": ".py",
   "mimetype": "text/x-python",
   "name": "python",
   "nbconvert_exporter": "python",
   "pygments_lexer": "ipython3",
   "version": "3.7.4"
  }
 },
 "nbformat": 4,
 "nbformat_minor": 4
}
