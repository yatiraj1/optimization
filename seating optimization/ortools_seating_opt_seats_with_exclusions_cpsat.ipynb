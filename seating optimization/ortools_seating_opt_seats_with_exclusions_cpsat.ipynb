{
 "cells": [
  {
   "cell_type": "code",
   "execution_count": 180,
   "metadata": {},
   "outputs": [],
   "source": [
    "from ortools.sat.python import cp_model"
   ]
  },
  {
   "cell_type": "code",
   "execution_count": 181,
   "metadata": {},
   "outputs": [],
   "source": [
    "import pandas as pd\n",
    "import numpy as np\n",
    "import seaborn as sns\n",
    "from matplotlib import pyplot as plt\n",
    "from itertools import combinations, permutations\n",
    "import time\n",
    "from sympy import Point, Eq\n",
    "from sympy.geometry import Line, Segment, Polygon"
   ]
  },
  {
   "cell_type": "code",
   "execution_count": 182,
   "metadata": {},
   "outputs": [],
   "source": [
    "line1 = Line(Point(0.25,0.25), Point(0.75, 1))"
   ]
  },
  {
   "cell_type": "code",
   "execution_count": 183,
   "metadata": {},
   "outputs": [
    {
     "data": {
      "text/latex": [
       "$\\displaystyle Point2D\\left(\\frac{3}{260}, - \\frac{1}{130}\\right)$"
      ],
      "text/plain": [
       "Point2D(3/260, -1/130)"
      ]
     },
     "execution_count": 183,
     "metadata": {},
     "output_type": "execute_result"
    }
   ],
   "source": [
    "line1.projection(Point(0.2,0.2)) - Point(0.2,0.2)"
   ]
  },
  {
   "cell_type": "code",
   "execution_count": null,
   "metadata": {},
   "outputs": [],
   "source": []
  },
  {
   "cell_type": "code",
   "execution_count": 184,
   "metadata": {},
   "outputs": [],
   "source": [
    "number_tickets = 10\n",
    "seating_rows = 20\n",
    "seating_columns = 20\n",
    "number_seats = seating_rows * seating_columns\n",
    "seat_depth = 0.5\n",
    "seat_depth_gap = 0.2\n",
    "seat_width = 0.5\n",
    "seat_width_gap = 0.2\n",
    "max_group_size = 8"
   ]
  },
  {
   "cell_type": "code",
   "execution_count": 185,
   "metadata": {},
   "outputs": [],
   "source": [
    "GEOMETRY = \"rectangle\"\n",
    "front_row_seat_length = 20\n",
    "last_row_seat_length = 16"
   ]
  },
  {
   "cell_type": "code",
   "execution_count": 186,
   "metadata": {},
   "outputs": [],
   "source": [
    "group_size_limits = {\n",
    "    8 : 1,\n",
    "    7 : 1,\n",
    "    6 :1,\n",
    "    5 : 1,\n",
    "    4 : 5,\n",
    "    3 : 8,\n",
    "    2 : 8,\n",
    "}"
   ]
  },
  {
   "cell_type": "code",
   "execution_count": 187,
   "metadata": {},
   "outputs": [
    {
     "ename": "KeyError",
     "evalue": "0",
     "output_type": "error",
     "traceback": [
      "\u001b[1;31m---------------------------------------------------------------------------\u001b[0m",
      "\u001b[1;31mKeyError\u001b[0m                                  Traceback (most recent call last)",
      "\u001b[1;32m<ipython-input-187-a68e91538c80>\u001b[0m in \u001b[0;36m<module>\u001b[1;34m\u001b[0m\n\u001b[0;32m      2\u001b[0m \u001b[0mexcluded_groups\u001b[0m\u001b[1;33m.\u001b[0m\u001b[0mremove\u001b[0m\u001b[1;33m(\u001b[0m\u001b[1;36m0\u001b[0m\u001b[1;33m)\u001b[0m\u001b[1;33m\u001b[0m\u001b[1;33m\u001b[0m\u001b[0m\n\u001b[0;32m      3\u001b[0m \u001b[0mincluded_groups\u001b[0m \u001b[1;33m=\u001b[0m \u001b[0mset\u001b[0m\u001b[1;33m(\u001b[0m\u001b[1;33m[\u001b[0m \u001b[0mvalue\u001b[0m \u001b[1;32mif\u001b[0m \u001b[0mvalue\u001b[0m \u001b[1;32mnot\u001b[0m \u001b[1;32min\u001b[0m \u001b[0mexcluded_groups\u001b[0m \u001b[1;32melse\u001b[0m \u001b[1;36m0\u001b[0m \u001b[1;32mfor\u001b[0m \u001b[0mvalue\u001b[0m \u001b[1;32min\u001b[0m \u001b[0mrange\u001b[0m\u001b[1;33m(\u001b[0m\u001b[1;36m1\u001b[0m\u001b[1;33m,\u001b[0m \u001b[0mmax_group_size\u001b[0m \u001b[1;33m+\u001b[0m \u001b[1;36m1\u001b[0m\u001b[1;33m)\u001b[0m\u001b[1;33m]\u001b[0m\u001b[1;33m)\u001b[0m\u001b[1;33m\u001b[0m\u001b[1;33m\u001b[0m\u001b[0m\n\u001b[1;32m----> 4\u001b[1;33m \u001b[0mincluded_groups\u001b[0m\u001b[1;33m.\u001b[0m\u001b[0mremove\u001b[0m\u001b[1;33m(\u001b[0m\u001b[1;36m0\u001b[0m\u001b[1;33m)\u001b[0m\u001b[1;33m\u001b[0m\u001b[1;33m\u001b[0m\u001b[0m\n\u001b[0m",
      "\u001b[1;31mKeyError\u001b[0m: 0"
     ]
    }
   ],
   "source": [
    "excluded_groups = set([ key if value == 0 else 0 for key, value in group_size_limits.items() ])\n",
    "excluded_groups.remove(0)\n",
    "included_groups = set([ value if value not in excluded_groups else 0 for value in range(1, max_group_size + 1)])\n",
    "included_groups.remove(0)"
   ]
  },
  {
   "cell_type": "code",
   "execution_count": 188,
   "metadata": {},
   "outputs": [
    {
     "name": "stdout",
     "output_type": "stream",
     "text": [
      "set()\n"
     ]
    }
   ],
   "source": [
    "print(excluded_groups)"
   ]
  },
  {
   "cell_type": "code",
   "execution_count": 189,
   "metadata": {},
   "outputs": [],
   "source": [
    "x_seats = np.array( [ (i % seating_columns) * (seat_width + seat_width_gap) + (seat_width / 2) for i in range(number_seats) ] )"
   ]
  },
  {
   "cell_type": "code",
   "execution_count": 190,
   "metadata": {},
   "outputs": [],
   "source": [
    "y_seats = np.array( [ (i // seating_columns) * (seat_depth + seat_depth_gap) + (seat_depth / 2) for i in range(number_seats) ] )"
   ]
  },
  {
   "cell_type": "code",
   "execution_count": 191,
   "metadata": {},
   "outputs": [],
   "source": [
    "#ticket_size = np.random.randint(low =1, high = 10, size = number_tickets)\n",
    "ticket_size = np.ones(number_tickets)"
   ]
  },
  {
   "cell_type": "code",
   "execution_count": 192,
   "metadata": {},
   "outputs": [
    {
     "data": {
      "text/plain": [
       "array([1., 1., 1., 1., 1., 1., 1., 1., 1., 1.])"
      ]
     },
     "execution_count": 192,
     "metadata": {},
     "output_type": "execute_result"
    }
   ],
   "source": [
    "ticket_size"
   ]
  },
  {
   "cell_type": "code",
   "execution_count": 193,
   "metadata": {},
   "outputs": [],
   "source": [
    "model = cp_model.CpModel()\n",
    "model.StringParameters = \"num_search_workers:8\""
   ]
  },
  {
   "cell_type": "code",
   "execution_count": 194,
   "metadata": {},
   "outputs": [],
   "source": [
    "x = {}"
   ]
  },
  {
   "cell_type": "code",
   "execution_count": 195,
   "metadata": {},
   "outputs": [],
   "source": [
    "def create_pairs(included_groups):\n",
    "    return combinations(included_groups, 2)"
   ]
  },
  {
   "cell_type": "code",
   "execution_count": 196,
   "metadata": {},
   "outputs": [
    {
     "ename": "SyntaxError",
     "evalue": "unexpected EOF while parsing (<ipython-input-196-c781c36a3916>, line 1)",
     "output_type": "error",
     "traceback": [
      "\u001b[1;36m  File \u001b[1;32m\"<ipython-input-196-c781c36a3916>\"\u001b[1;36m, line \u001b[1;32m1\u001b[0m\n\u001b[1;33m    def trapezium_rules():\u001b[0m\n\u001b[1;37m                          ^\u001b[0m\n\u001b[1;31mSyntaxError\u001b[0m\u001b[1;31m:\u001b[0m unexpected EOF while parsing\n"
     ]
    }
   ],
   "source": [
    "def trapezium_rules():"
   ]
  },
  {
   "cell_type": "code",
   "execution_count": 197,
   "metadata": {},
   "outputs": [],
   "source": [
    "def is_seat_geometry_excluded(seat_num):\n",
    "    if GEOMETRY == 'rectanlge':\n",
    "        return False\n",
    "    elif GEOMETRY == 'trapezium':\n",
    "        \"\"\"line1 = Line( Point(seat_width/2, seat_depth/2), Point( (seating_columns - last_row_seat_length) * (seat_width + seat_width_gap) / 2, (seating_rows - 1) * (seat_depth + seat_depth_gap) ) )\n",
    "        line = Line( Point(seat_width/2, seat_depth/2), Point(i, j) )\n",
    "        #return line1.angle_between(line) > 0\n",
    "        trap = Polygon(\n",
    "                        Point(seat_width/2, seat_depth/2),\n",
    "                        Point( 0.5 * (seating_columns - last_row_seat_length) * (seat_width + seat_width_gap) + 0.5 * seat_width, (seating_rows - 1) * (seat_depth + seat_depth_gap) + seating_ ),\n",
    "                        Point(, (seating_rows - 1) * (seat_depth + seat_depth_gap))\n",
    "        )\"\"\"\n",
    "        pad = 0.01\n",
    "        trap = Polygon(\n",
    "                        Point(x_seats[0]-pad, y_seats[0]-pad),\n",
    "                        Point(x_seats[seating_columns - 1]+pad, y_seats[seating_columns - 1]-pad),\n",
    "                        Point(x_seats[int(number_seats - 0.5*(seating_columns - last_row_seat_length))] +pad, y_seats[int(number_seats - 0.5*(seating_columns - last_row_seat_length))]+pad),\n",
    "                        Point(x_seats[int(number_seats - 0.5*(seating_columns - last_row_seat_length) - last_row_seat_length)] -pad, y_seats[int(number_seats - 0.5*(seating_columns - last_row_seat_length) - last_row_seat_length)]+pad)\n",
    "        )\n",
    "        #print(trap.is_convex())\n",
    "        return trap.encloses_point( Point( x_seats[seat_num], y_seats[seat_num] ))\n"
   ]
  },
  {
   "cell_type": "code",
   "execution_count": null,
   "metadata": {},
   "outputs": [],
   "source": []
  },
  {
   "cell_type": "code",
   "execution_count": 198,
   "metadata": {},
   "outputs": [],
   "source": [
    "is_seat_geometry_excluded(5)"
   ]
  },
  {
   "cell_type": "code",
   "execution_count": 199,
   "metadata": {},
   "outputs": [],
   "source": [
    "def is_seat_group_size_excluded(i, j):\n",
    "    if i in excluded_groups:\n",
    "        return True\n",
    "    else:\n",
    "        return False"
   ]
  },
  {
   "cell_type": "code",
   "execution_count": 200,
   "metadata": {},
   "outputs": [],
   "source": [
    "def is_seat_excluded(i, j):\n",
    "    return is_seat_group_size_excluded(i, j) or is_seat_geometry_excluded(i, j)    "
   ]
  },
  {
   "cell_type": "code",
   "execution_count": 201,
   "metadata": {},
   "outputs": [],
   "source": [
    "def create_variables(max_group_size):\n",
    "    for i in included_groups:\n",
    "        for j in range(number_seats):\n",
    "            x[(i, j)] = model.NewBoolVar('x[%i,%i]' % (i, j))"
   ]
  },
  {
   "cell_type": "code",
   "execution_count": 202,
   "metadata": {},
   "outputs": [],
   "source": [
    "c=0\n",
    "def get_min_distance(a, b, group1, group2):\n",
    "    c=0\n",
    "    distances = []\n",
    "    distances.append((x_seats[a] - x_seats[b])**2 + (y_seats[a] - y_seats[b])**2)\n",
    "    for i in range(group1):\n",
    "        for j in range(group2):\n",
    "            try:\n",
    "                distances.append((x_seats[a+i] - x_seats[b+j])**2 + (y_seats[a+i] - y_seats[b+j])**2)\n",
    "            except:\n",
    "                c += 1\n",
    "                #print(a,b)\n",
    "    return min(distances)"
   ]
  },
  {
   "cell_type": "raw",
   "metadata": {},
   "source": [
    "create_same_group_constraints(max_group_size):\n",
    "    for a, b in permutations(range(number_seats), 2):\n",
    "        if get_min_distance(a, b, one, two) < 4:\n",
    "            solver.Add(solver.Sum([ x[(one, a)] , x[(two, b)] ]) <= 1)\n"
   ]
  },
  {
   "cell_type": "code",
   "execution_count": 203,
   "metadata": {},
   "outputs": [],
   "source": [
    "def create_group_size_constraints(max_group_size):\n",
    "    for gp in included_groups:\n",
    "        try:\n",
    "            model.Add(sum( [ x[gp, j] for j in range(number_seats) ] ) == group_size_limits[gp] ) #chane from equal to lte\n",
    "        except:\n",
    "            print(\"no limit for group size \", gp)"
   ]
  },
  {
   "cell_type": "code",
   "execution_count": 204,
   "metadata": {},
   "outputs": [],
   "source": [
    "def create_pair_constraints(one, two):\n",
    "    for a, b in permutations(range(number_seats), 2):\n",
    "        if get_min_distance(a, b, one, two) < 4:\n",
    "            model.Add(sum([ x[(one, a)] , x[(two, b)] ]) <= 1)\n",
    "    "
   ]
  },
  {
   "cell_type": "code",
   "execution_count": 205,
   "metadata": {},
   "outputs": [],
   "source": [
    "def create_individual_constraints(max_group_size):\n",
    "    for i in included_groups:\n",
    "        for j in range(number_seats):\n",
    "            if j % seating_columns >= seating_columns - i + 1:\n",
    "                model.Add(x[(i, j)] == 0)"
   ]
  },
  {
   "cell_type": "code",
   "execution_count": 206,
   "metadata": {},
   "outputs": [],
   "source": [
    "def create_exclusivity_constraints(max_group_size):\n",
    "    for j in range(number_seats):\n",
    "        terms = [ x[(i, j)] for i in included_groups ]\n",
    "        model.Add(sum(terms) <= 1)"
   ]
  },
  {
   "cell_type": "code",
   "execution_count": 207,
   "metadata": {},
   "outputs": [],
   "source": [
    "def create_all_constraints(max_group_size):\n",
    "    group_pairs = create_pairs(included_groups)\n",
    "    for pair in group_pairs:\n",
    "        create_pair_constraints(pair[0], pair[1])\n",
    "    \n",
    "    group_self_pairs = [(d, d) for d in included_groups]\n",
    "    for pair in group_self_pairs:\n",
    "        create_pair_constraints(pair[0], pair[1])\n",
    "        \n",
    "    create_individual_constraints(max_group_size)\n",
    "    \n",
    "    create_exclusivity_constraints(max_group_size)\n",
    "    \n",
    "    create_group_size_constraints(max_group_size)\n",
    "    "
   ]
  },
  {
   "cell_type": "code",
   "execution_count": 208,
   "metadata": {},
   "outputs": [],
   "source": [
    "def main():\n",
    "    # Data\n",
    "    \n",
    "        \n",
    "    \n",
    "    # Solver\n",
    "    # Create the mip solver with the CBC backend.\n",
    "    #solver = pywraplp.Solver.CreateSolver('assignment_mip', 'CBC')\n",
    "\n",
    "\n",
    "    # Variables\n",
    "    \n",
    "    \n",
    "    create_variables(max_group_size)\n",
    "    \n",
    "    # Constraints\n",
    "    create_all_constraints(max_group_size)\n",
    "    \n",
    "    # Objective\n",
    "    objective_terms = []\n",
    "    for j in range(number_seats):\n",
    "        for i in included_groups:\n",
    "            objective_terms.append( i * x[(i, j)] )\n",
    "    \n",
    "    model.Maximize(sum(objective_terms))\n",
    "    \n",
    "    # Solve\n",
    "    solver = cp_model.CpSolver()\n",
    "    solver.parameters.num_search_workers = 8\n",
    "    status = solver.Solve(model)\n",
    "    \n",
    "    print(\"status is \",status)\n",
    "    c = 0\n",
    "    #sol_matrix\n",
    "    sol_matrices = []\n",
    "    sol_matrices_fmt = []\n",
    "    for i in range(max_group_size):\n",
    "        sol_matrices.append(np.zeros((seating_rows, seating_columns)))\n",
    "        sol_matrices_fmt.append(np.zeros((seating_rows, seating_columns)))\n",
    "    # Print solution.\n",
    "    if status == cp_model.OPTIMAL or status == cp_model.FEASIBLE:\n",
    "        print('Total cost = ', solver.ObjectiveValue(), '\\n')\n",
    "        for k in range(len(sol_matrices)):\n",
    "            for i in range(seating_columns):\n",
    "                for j in range(seating_rows):\n",
    "                    # Test if x[i,j] is 1 (with tolerance for floating point arithmetic).\n",
    "                    try:\n",
    "                        if solver.BooleanValue(x[(k+1, i + j * seating_columns)]):\n",
    "                            #print('Worker %d assigned to task %d.  Cost = %d' %\n",
    "                                  #(i, j, costs[i][j]))\n",
    "\n",
    "                                sol_matrices[k][j,i] = 1 * (k+1)\n",
    "                                for m in range(0,k+1):\n",
    "                                    sol_matrices_fmt[k][j , i + m] = 1 * (k+1)\n",
    "                    except:\n",
    "                        c += 1\n",
    "                    \n",
    "        return(sol_matrices, sol_matrices_fmt)\n",
    "    else:\n",
    "        return status\n"
   ]
  },
  {
   "cell_type": "code",
   "execution_count": 209,
   "metadata": {},
   "outputs": [
    {
     "name": "stdout",
     "output_type": "stream",
     "text": [
      "no limit for group size  1\n",
      "status is  4\n",
      "Total cost =  92.0 \n",
      "\n"
     ]
    },
    {
     "data": {
      "text/plain": [
       "251.67739534378052"
      ]
     },
     "execution_count": 209,
     "metadata": {},
     "output_type": "execute_result"
    }
   ],
   "source": [
    "t1 = time.time()\n",
    "soln = main()\n",
    "t2 = time.time()\n",
    "t2-t1"
   ]
  },
  {
   "cell_type": "raw",
   "metadata": {},
   "source": [
    "318s without parallelization\n",
    "304s with model parallelized with StringParameters\n",
    "327s with solver parallelized with SatParameters\n",
    "244s with maximizer\n",
    "244s without maximizer"
   ]
  },
  {
   "cell_type": "code",
   "execution_count": 210,
   "metadata": {},
   "outputs": [
    {
     "data": {
      "text/plain": [
       "<matplotlib.axes._subplots.AxesSubplot at 0x1c69b998b48>"
      ]
     },
     "execution_count": 210,
     "metadata": {},
     "output_type": "execute_result"
    },
    {
     "data": {
      "image/png": "[encoded data removed]",
      "text/plain": [
       "<Figure size 1440x1080 with 1 Axes>"
      ]
     },
     "metadata": {
      "needs_background": "light"
     },
     "output_type": "display_data"
    }
   ],
   "source": [
    "fig, ax = plt.subplots(figsize=(20,15))\n",
    "sns.heatmap(sum(soln[0]), linecolor = 'white', linewidths = 0.1, annot = True, ax = ax, cbar =False)"
   ]
  },
  {
   "cell_type": "code",
   "execution_count": 211,
   "metadata": {},
   "outputs": [
    {
     "data": {
      "text/plain": [
       "<matplotlib.axes._subplots.AxesSubplot at 0x1c6864cc188>"
      ]
     },
     "execution_count": 211,
     "metadata": {},
     "output_type": "execute_result"
    },
    {
     "data": {
      "image/png": "[encoded data removed]",
      "text/plain": [
       "<Figure size 1440x1080 with 1 Axes>"
      ]
     },
     "metadata": {
      "needs_background": "light"
     },
     "output_type": "display_data"
    }
   ],
   "source": [
    "fig, ax = plt.subplots(figsize=(20,15))\n",
    "sns.heatmap(sum(soln[1]), linecolor = 'white', linewidths = 0.1, annot = True, ax = ax, cbar =False)"
   ]
  },
  {
   "cell_type": "code",
   "execution_count": null,
   "metadata": {},
   "outputs": [],
   "source": []
  },
  {
   "cell_type": "code",
   "execution_count": null,
   "metadata": {},
   "outputs": [],
   "source": []
  },
  {
   "cell_type": "raw",
   "metadata": {},
   "source": [
    "[(x_seats[i],y_seats[i]) for i in range(number_seats)]"
   ]
  },
  {
   "cell_type": "code",
   "execution_count": 212,
   "metadata": {},
   "outputs": [],
   "source": [
    "pd.DataFrame(sum(soln[1])).to_csv(\"seating_optimization_for_400_seats_groups_with_maximization.csv\")"
   ]
  },
  {
   "cell_type": "code",
   "execution_count": null,
   "metadata": {},
   "outputs": [],
   "source": []
  },
  {
   "cell_type": "code",
   "execution_count": null,
   "metadata": {},
   "outputs": [],
   "source": []
  },
  {
   "cell_type": "code",
   "execution_count": null,
   "metadata": {},
   "outputs": [],
   "source": []
  }
 ],
 "metadata": {
  "kernelspec": {
   "display_name": "Python 3",
   "language": "python",
   "name": "python3"
  },
  "language_info": {
   "codemirror_mode": {
    "name": "ipython",
    "version": 3
   },
   "file_extension": ".py",
   "mimetype": "text/x-python",
   "name": "python",
   "nbconvert_exporter": "python",
   "pygments_lexer": "ipython3",
   "version": "3.7.4"
  }
 },
 "nbformat": 4,
 "nbformat_minor": 4
}
